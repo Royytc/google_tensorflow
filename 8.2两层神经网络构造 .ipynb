{
 "cells": [
  {
   "cell_type": "markdown",
   "metadata": {},
   "source": [
    "# 载入数据"
   ]
  },
  {
   "cell_type": "code",
   "execution_count": 1,
   "metadata": {},
   "outputs": [
    {
     "name": "stdout",
     "output_type": "stream",
     "text": [
      "WARNING:tensorflow:From <ipython-input-1-729e74f623d0>:3: read_data_sets (from tensorflow.contrib.learn.python.learn.datasets.mnist) is deprecated and will be removed in a future version.\n",
      "Instructions for updating:\n",
      "Please use alternatives such as official/mnist/dataset.py from tensorflow/models.\n",
      "WARNING:tensorflow:From E:\\anaconda\\anaconda\\envs\\TensorFlow\\lib\\site-packages\\tensorflow\\contrib\\learn\\python\\learn\\datasets\\mnist.py:260: maybe_download (from tensorflow.contrib.learn.python.learn.datasets.base) is deprecated and will be removed in a future version.\n",
      "Instructions for updating:\n",
      "Please write your own downloading logic.\n",
      "WARNING:tensorflow:From E:\\anaconda\\anaconda\\envs\\TensorFlow\\lib\\site-packages\\tensorflow\\contrib\\learn\\python\\learn\\datasets\\mnist.py:262: extract_images (from tensorflow.contrib.learn.python.learn.datasets.mnist) is deprecated and will be removed in a future version.\n",
      "Instructions for updating:\n",
      "Please use tf.data to implement this functionality.\n",
      "Extracting MNIST_data/train-images-idx3-ubyte.gz\n",
      "WARNING:tensorflow:From E:\\anaconda\\anaconda\\envs\\TensorFlow\\lib\\site-packages\\tensorflow\\contrib\\learn\\python\\learn\\datasets\\mnist.py:267: extract_labels (from tensorflow.contrib.learn.python.learn.datasets.mnist) is deprecated and will be removed in a future version.\n",
      "Instructions for updating:\n",
      "Please use tf.data to implement this functionality.\n",
      "Extracting MNIST_data/train-labels-idx1-ubyte.gz\n",
      "WARNING:tensorflow:From E:\\anaconda\\anaconda\\envs\\TensorFlow\\lib\\site-packages\\tensorflow\\contrib\\learn\\python\\learn\\datasets\\mnist.py:110: dense_to_one_hot (from tensorflow.contrib.learn.python.learn.datasets.mnist) is deprecated and will be removed in a future version.\n",
      "Instructions for updating:\n",
      "Please use tf.one_hot on tensors.\n",
      "Extracting MNIST_data/t10k-images-idx3-ubyte.gz\n",
      "Extracting MNIST_data/t10k-labels-idx1-ubyte.gz\n",
      "WARNING:tensorflow:From E:\\anaconda\\anaconda\\envs\\TensorFlow\\lib\\site-packages\\tensorflow\\contrib\\learn\\python\\learn\\datasets\\mnist.py:290: DataSet.__init__ (from tensorflow.contrib.learn.python.learn.datasets.mnist) is deprecated and will be removed in a future version.\n",
      "Instructions for updating:\n",
      "Please use alternatives such as official/mnist/dataset.py from tensorflow/models.\n"
     ]
    }
   ],
   "source": [
    "import tensorflow as tf\n",
    "import tensorflow.examples.tutorials.mnist.input_data as input_data\n",
    "mnist=input_data.read_data_sets(\"MNIST_data/\",one_hot=True)"
   ]
  },
  {
   "cell_type": "markdown",
   "metadata": {},
   "source": [
    "# 建立模型"
   ]
  },
  {
   "cell_type": "code",
   "execution_count": 2,
   "metadata": {},
   "outputs": [],
   "source": [
    "# 定义占位符\n",
    "x=tf.placeholder(tf.float32,[None,784],name=\"X\")\n",
    "y=tf.placeholder(tf.float32,[None,10],name=\"Y\")"
   ]
  },
  {
   "cell_type": "markdown",
   "metadata": {},
   "source": [
    "# 构建隐藏层"
   ]
  },
  {
   "cell_type": "code",
   "execution_count": 3,
   "metadata": {},
   "outputs": [],
   "source": [
    "# 隐藏层神经元数量\n",
    "H1_NN=256 \n",
    "H2_NN=64\n",
    "#输入层第一隐藏层参数和偏置项\n",
    "W1=tf.Variable(tf.truncated_normal([784,H1_NN],stddev=0.1))\n",
    "b1=tf.Variable(tf.zeros([H1_NN]))\n",
    "#第一隐藏层-第二层参数层和偏置项\n",
    "W2=tf.Variable(tf.truncated_normal([H1_NN,H2_NN],stddev=0.1))\n",
    "b2=tf.Variable(tf.zeros([H2_NN]))\n",
    "#第二隐藏层-输出层参数层和偏置项\n",
    "W3=tf.Variable(tf.truncated_normal([H2_NN,10],stddev=0.1))\n",
    "b3=tf.Variable(tf.zeros([10]))\n"
   ]
  },
  {
   "cell_type": "code",
   "execution_count": 4,
   "metadata": {},
   "outputs": [],
   "source": [
    "Y1=tf.nn.relu(tf.matmul(x,W1)+b1)\n",
    "Y2=tf.nn.relu(tf.matmul(Y1,W2)+b2)\n",
    "# 计算输出结果\n",
    "forward=tf.matmul(Y2,W3)+b3\n",
    "pred=tf.nn.softmax(forward)"
   ]
  },
  {
   "cell_type": "markdown",
   "metadata": {},
   "source": [
    "# 训练模型"
   ]
  },
  {
   "cell_type": "code",
   "execution_count": 5,
   "metadata": {},
   "outputs": [],
   "source": [
    "# 交叉熵\n",
    "#loss_function=tf.reduce_mean(-tf.reduce_sum(y*tf.log(pred),reduction_indices=1))"
   ]
  },
  {
   "cell_type": "code",
   "execution_count": 6,
   "metadata": {},
   "outputs": [
    {
     "name": "stdout",
     "output_type": "stream",
     "text": [
      "WARNING:tensorflow:From <ipython-input-6-7cf25b615857>:1: softmax_cross_entropy_with_logits (from tensorflow.python.ops.nn_ops) is deprecated and will be removed in a future version.\n",
      "Instructions for updating:\n",
      "\n",
      "Future major versions of TensorFlow will allow gradients to flow\n",
      "into the labels input on backprop by default.\n",
      "\n",
      "See `tf.nn.softmax_cross_entropy_with_logits_v2`.\n",
      "\n"
     ]
    }
   ],
   "source": [
    "\n",
    "loss_function=tf.reduce_mean(tf.nn.softmax_cross_entropy_with_logits(logits=forward,labels=y))"
   ]
  },
  {
   "cell_type": "markdown",
   "metadata": {},
   "source": [
    "# 设置训练参数"
   ]
  },
  {
   "cell_type": "code",
   "execution_count": 7,
   "metadata": {},
   "outputs": [],
   "source": [
    "train_epochs=40\n",
    "batch_size=50\n",
    "total_batch=int(mnist.train.num_examples/batch_size)\n",
    "display_step=1\n",
    "learning_rate=0.01"
   ]
  },
  {
   "cell_type": "markdown",
   "metadata": {},
   "source": [
    "# 选择优化器"
   ]
  },
  {
   "cell_type": "code",
   "execution_count": 8,
   "metadata": {},
   "outputs": [],
   "source": [
    "optimizer=tf.train.AdamOptimizer(learning_rate).minimize(loss_function)"
   ]
  },
  {
   "cell_type": "markdown",
   "metadata": {},
   "source": [
    "# 定义准确率"
   ]
  },
  {
   "cell_type": "code",
   "execution_count": 9,
   "metadata": {},
   "outputs": [],
   "source": [
    "correct_prediction=tf.equal(tf.argmax(y,1),tf.argmax(pred,1))\n",
    "accuracy=tf.reduce_mean(tf.cast(correct_prediction,tf.float32))"
   ]
  },
  {
   "cell_type": "markdown",
   "metadata": {},
   "source": [
    "# 训练模型"
   ]
  },
  {
   "cell_type": "code",
   "execution_count": 10,
   "metadata": {},
   "outputs": [
    {
     "name": "stdout",
     "output_type": "stream",
     "text": [
      "Train Epoch: 01 Loss= 0.185887516 Accuracy= 0.9536\n",
      "Train Epoch: 02 Loss= 0.138344556 Accuracy= 0.9644\n",
      "Train Epoch: 03 Loss= 0.147409633 Accuracy= 0.9604\n",
      "Train Epoch: 04 Loss= 0.142272234 Accuracy= 0.9692\n",
      "Train Epoch: 05 Loss= 0.131217316 Accuracy= 0.9696\n",
      "Train Epoch: 06 Loss= 0.159613997 Accuracy= 0.9670\n",
      "Train Epoch: 07 Loss= 0.140633270 Accuracy= 0.9690\n",
      "Train Epoch: 08 Loss= 0.175109893 Accuracy= 0.9714\n",
      "Train Epoch: 09 Loss= 0.159473807 Accuracy= 0.9728\n",
      "Train Epoch: 10 Loss= 0.172545463 Accuracy= 0.9698\n",
      "Train Epoch: 11 Loss= 0.195899561 Accuracy= 0.9690\n",
      "Train Epoch: 12 Loss= 0.172916457 Accuracy= 0.9684\n",
      "Train Epoch: 13 Loss= 0.228802398 Accuracy= 0.9666\n",
      "Train Epoch: 14 Loss= 0.217994720 Accuracy= 0.9664\n",
      "Train Epoch: 15 Loss= 0.179490820 Accuracy= 0.9648\n",
      "Train Epoch: 16 Loss= 0.222809568 Accuracy= 0.9714\n",
      "Train Epoch: 17 Loss= 0.206103519 Accuracy= 0.9742\n",
      "Train Epoch: 18 Loss= 0.177085668 Accuracy= 0.9758\n",
      "Train Epoch: 19 Loss= 0.187069535 Accuracy= 0.9734\n",
      "Train Epoch: 20 Loss= 0.186098024 Accuracy= 0.9758\n",
      "Train Epoch: 21 Loss= 0.244589597 Accuracy= 0.9750\n",
      "Train Epoch: 22 Loss= 0.195808485 Accuracy= 0.9746\n",
      "Train Epoch: 23 Loss= 0.236160055 Accuracy= 0.9678\n",
      "Train Epoch: 24 Loss= 0.236442804 Accuracy= 0.9756\n",
      "Train Epoch: 25 Loss= 0.244828582 Accuracy= 0.9714\n",
      "Train Epoch: 26 Loss= 0.217447951 Accuracy= 0.9716\n",
      "Train Epoch: 27 Loss= 0.193727195 Accuracy= 0.9750\n",
      "Train Epoch: 28 Loss= 0.308851182 Accuracy= 0.9684\n",
      "Train Epoch: 29 Loss= 0.203353584 Accuracy= 0.9736\n",
      "Train Epoch: 30 Loss= 0.289086789 Accuracy= 0.9696\n",
      "Train Epoch: 31 Loss= 0.304654241 Accuracy= 0.9738\n",
      "Train Epoch: 32 Loss= 0.297914058 Accuracy= 0.9704\n",
      "Train Epoch: 33 Loss= 0.330688536 Accuracy= 0.9662\n",
      "Train Epoch: 34 Loss= 0.242131934 Accuracy= 0.9718\n",
      "Train Epoch: 35 Loss= 0.404943764 Accuracy= 0.9732\n",
      "Train Epoch: 36 Loss= 0.294128805 Accuracy= 0.9726\n",
      "Train Epoch: 37 Loss= 0.324431449 Accuracy= 0.9736\n",
      "Train Epoch: 38 Loss= 0.249747857 Accuracy= 0.9738\n",
      "Train Epoch: 39 Loss= 0.377937794 Accuracy= 0.9670\n",
      "Train Epoch: 40 Loss= 0.350156397 Accuracy= 0.9682\n",
      "Train Finished takes: 540.06\n"
     ]
    }
   ],
   "source": [
    "# 记录训练开始时间\n",
    "from time import time\n",
    "startTime=time()\n",
    "sess=tf.Session()\n",
    "sess.run(tf.global_variables_initializer())\n",
    "for epoch in range(train_epochs):\n",
    "    for batch in range(total_batch):\n",
    "        xs,ys=mnist.train.next_batch(batch_size)# 读取批次数据\n",
    "        sess.run(optimizer,feed_dict={x:xs,y:ys})#执行批次训练\n",
    "        # total_batch个批次训练完成后，使用验证数据计算误差和准确率\n",
    "        loss,acc=sess.run([loss_function,accuracy],feed_dict={x:mnist.validation.images,y:mnist.validation.labels})\n",
    "    if (epoch+1)%display_step==0:\n",
    "        print(\"Train Epoch:\",'%02d'%(epoch+1),\n",
    "                 \"Loss=\",\"{:.9f}\".format(loss),\"Accuracy=\",\"{:.4f}\".format(acc))\n",
    "duration=time()-startTime\n",
    "print(\"Train Finished takes:\",\"{:.2f}\".format(duration))"
   ]
  },
  {
   "cell_type": "code",
   "execution_count": null,
   "metadata": {},
   "outputs": [],
   "source": []
  }
 ],
 "metadata": {
  "kernelspec": {
   "display_name": "Python 3.6.3 64-bit ('TensorFlow': conda)",
   "language": "python",
   "name": "python36364bittensorflowconda38b79ddab0724ed4aff533accc5e8161"
  },
  "language_info": {
   "codemirror_mode": {
    "name": "ipython",
    "version": 3
   },
   "file_extension": ".py",
   "mimetype": "text/x-python",
   "name": "python",
   "nbconvert_exporter": "python",
   "pygments_lexer": "ipython3",
   "version": "3.6.3"
  }
 },
 "nbformat": 4,
 "nbformat_minor": 2
}
