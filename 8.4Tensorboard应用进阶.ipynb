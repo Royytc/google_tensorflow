{
 "cells": [
  {
   "cell_type": "markdown",
   "metadata": {},
   "source": [
    "# 载入数据"
   ]
  },
  {
   "cell_type": "code",
   "execution_count": 1,
   "metadata": {},
   "outputs": [
    {
     "name": "stdout",
     "output_type": "stream",
     "text": [
      "WARNING:tensorflow:From <ipython-input-1-729e74f623d0>:3: read_data_sets (from tensorflow.contrib.learn.python.learn.datasets.mnist) is deprecated and will be removed in a future version.\n",
      "Instructions for updating:\n",
      "Please use alternatives such as official/mnist/dataset.py from tensorflow/models.\n",
      "WARNING:tensorflow:From E:\\anaconda\\anaconda\\envs\\TensorFlow\\lib\\site-packages\\tensorflow\\contrib\\learn\\python\\learn\\datasets\\mnist.py:260: maybe_download (from tensorflow.contrib.learn.python.learn.datasets.base) is deprecated and will be removed in a future version.\n",
      "Instructions for updating:\n",
      "Please write your own downloading logic.\n",
      "WARNING:tensorflow:From E:\\anaconda\\anaconda\\envs\\TensorFlow\\lib\\site-packages\\tensorflow\\contrib\\learn\\python\\learn\\datasets\\mnist.py:262: extract_images (from tensorflow.contrib.learn.python.learn.datasets.mnist) is deprecated and will be removed in a future version.\n",
      "Instructions for updating:\n",
      "Please use tf.data to implement this functionality.\n",
      "Extracting MNIST_data/train-images-idx3-ubyte.gz\n",
      "WARNING:tensorflow:From E:\\anaconda\\anaconda\\envs\\TensorFlow\\lib\\site-packages\\tensorflow\\contrib\\learn\\python\\learn\\datasets\\mnist.py:267: extract_labels (from tensorflow.contrib.learn.python.learn.datasets.mnist) is deprecated and will be removed in a future version.\n",
      "Instructions for updating:\n",
      "Please use tf.data to implement this functionality.\n",
      "Extracting MNIST_data/train-labels-idx1-ubyte.gz\n",
      "WARNING:tensorflow:From E:\\anaconda\\anaconda\\envs\\TensorFlow\\lib\\site-packages\\tensorflow\\contrib\\learn\\python\\learn\\datasets\\mnist.py:110: dense_to_one_hot (from tensorflow.contrib.learn.python.learn.datasets.mnist) is deprecated and will be removed in a future version.\n",
      "Instructions for updating:\n",
      "Please use tf.one_hot on tensors.\n",
      "Extracting MNIST_data/t10k-images-idx3-ubyte.gz\n",
      "Extracting MNIST_data/t10k-labels-idx1-ubyte.gz\n",
      "WARNING:tensorflow:From E:\\anaconda\\anaconda\\envs\\TensorFlow\\lib\\site-packages\\tensorflow\\contrib\\learn\\python\\learn\\datasets\\mnist.py:290: DataSet.__init__ (from tensorflow.contrib.learn.python.learn.datasets.mnist) is deprecated and will be removed in a future version.\n",
      "Instructions for updating:\n",
      "Please use alternatives such as official/mnist/dataset.py from tensorflow/models.\n"
     ]
    }
   ],
   "source": [
    "import tensorflow as tf\n",
    "import tensorflow.examples.tutorials.mnist.input_data as input_data\n",
    "mnist=input_data.read_data_sets(\"MNIST_data/\",one_hot=True)"
   ]
  },
  {
   "cell_type": "markdown",
   "metadata": {},
   "source": [
    "# 建立模型"
   ]
  },
  {
   "cell_type": "code",
   "execution_count": 2,
   "metadata": {},
   "outputs": [],
   "source": [
    "# 定义占位符\n",
    "x=tf.placeholder(tf.float32,[None,784],name=\"X\")\n",
    "y=tf.placeholder(tf.float32,[None,10],name=\"Y\")"
   ]
  },
  {
   "cell_type": "code",
   "execution_count": 3,
   "metadata": {},
   "outputs": [
    {
     "data": {
      "text/plain": [
       "<tf.Tensor 'input:0' shape=() dtype=string>"
      ]
     },
     "execution_count": 3,
     "metadata": {},
     "output_type": "execute_result"
    }
   ],
   "source": [
    "image_shaped_input=tf.reshape(x,[-1,28,28,1])\n",
    "tf.summary.image('input',image_shaped_input,10)# 加入摘要图像信息"
   ]
  },
  {
   "cell_type": "markdown",
   "metadata": {},
   "source": [
    "# 构建隐藏层"
   ]
  },
  {
   "cell_type": "code",
   "execution_count": 4,
   "metadata": {},
   "outputs": [],
   "source": [
    "def fcn_layer(inputs,      # 输入数据\n",
    "             input_dim,   #输入神经元数量   \n",
    "             output_dim,   #输出神经元数量 \n",
    "             activation=None): #激活函数\n",
    "    W=tf.Variable(tf.truncated_normal([input_dim,output_dim],stddev=0.1))\n",
    "    b=tf.Variable(tf.zeros(output_dim))\n",
    "    XWb=tf.matmul(inputs,W)+b\n",
    "    if activation is None:\n",
    "        outputs=XWb\n",
    "    else:\n",
    "        outputs=activation(XWb)\n",
    "    return outputs\n",
    "              "
   ]
  },
  {
   "cell_type": "code",
   "execution_count": 5,
   "metadata": {},
   "outputs": [],
   "source": [
    "# 隐藏层神经元数量\n",
    "H1_NN=256 \n",
    "H2_NN=64\n"
   ]
  },
  {
   "cell_type": "markdown",
   "metadata": {},
   "source": [
    "# 构建隐藏层一"
   ]
  },
  {
   "cell_type": "code",
   "execution_count": 6,
   "metadata": {},
   "outputs": [],
   "source": [
    "h1=fcn_layer(inputs=x,input_dim=784,output_dim=H1_NN,activation=tf.nn.relu)"
   ]
  },
  {
   "cell_type": "markdown",
   "metadata": {},
   "source": [
    "# 构建隐藏层二"
   ]
  },
  {
   "cell_type": "code",
   "execution_count": 7,
   "metadata": {},
   "outputs": [],
   "source": [
    "h2=fcn_layer(inputs=h1,input_dim=H1_NN,output_dim=H2_NN,activation=tf.nn.relu)"
   ]
  },
  {
   "cell_type": "markdown",
   "metadata": {},
   "source": [
    "# 构建输出层"
   ]
  },
  {
   "cell_type": "code",
   "execution_count": 8,
   "metadata": {},
   "outputs": [],
   "source": [
    "forward=fcn_layer(inputs=h2,input_dim=H2_NN,output_dim=10,activation=None)\n",
    "pred=tf.nn.softmax(forward)"
   ]
  },
  {
   "cell_type": "markdown",
   "metadata": {},
   "source": [
    "# Tensorboard：前向计算直方图显示"
   ]
  },
  {
   "cell_type": "code",
   "execution_count": 9,
   "metadata": {},
   "outputs": [
    {
     "data": {
      "text/plain": [
       "<tf.Tensor 'forward:0' shape=() dtype=string>"
      ]
     },
     "execution_count": 9,
     "metadata": {},
     "output_type": "execute_result"
    }
   ],
   "source": [
    "tf.summary.histogram('forward',forward)"
   ]
  },
  {
   "cell_type": "markdown",
   "metadata": {},
   "source": [
    "# 训练模型"
   ]
  },
  {
   "cell_type": "code",
   "execution_count": 10,
   "metadata": {},
   "outputs": [],
   "source": [
    "# 交叉熵\n",
    "#loss_function=tf.reduce_mean(-tf.reduce_sum(y*tf.log(pred),reduction_indices=1))"
   ]
  },
  {
   "cell_type": "code",
   "execution_count": 11,
   "metadata": {},
   "outputs": [
    {
     "name": "stdout",
     "output_type": "stream",
     "text": [
      "WARNING:tensorflow:From <ipython-input-11-7cf25b615857>:1: softmax_cross_entropy_with_logits (from tensorflow.python.ops.nn_ops) is deprecated and will be removed in a future version.\n",
      "Instructions for updating:\n",
      "\n",
      "Future major versions of TensorFlow will allow gradients to flow\n",
      "into the labels input on backprop by default.\n",
      "\n",
      "See `tf.nn.softmax_cross_entropy_with_logits_v2`.\n",
      "\n"
     ]
    }
   ],
   "source": [
    "\n",
    "loss_function=tf.reduce_mean(tf.nn.softmax_cross_entropy_with_logits(logits=forward,labels=y))"
   ]
  },
  {
   "cell_type": "markdown",
   "metadata": {},
   "source": [
    "# 将loss以损失标量显示"
   ]
  },
  {
   "cell_type": "code",
   "execution_count": 13,
   "metadata": {},
   "outputs": [
    {
     "data": {
      "text/plain": [
       "<tf.Tensor 'loss:0' shape=() dtype=string>"
      ]
     },
     "execution_count": 13,
     "metadata": {},
     "output_type": "execute_result"
    }
   ],
   "source": [
    "tf.summary.scalar('loss',loss_function)"
   ]
  },
  {
   "cell_type": "markdown",
   "metadata": {},
   "source": [
    "# 设置训练参数"
   ]
  },
  {
   "cell_type": "code",
   "execution_count": 14,
   "metadata": {},
   "outputs": [],
   "source": [
    "train_epochs=40\n",
    "batch_size=50\n",
    "total_batch=int(mnist.train.num_examples/batch_size)\n",
    "display_step=1\n",
    "learning_rate=0.01"
   ]
  },
  {
   "cell_type": "markdown",
   "metadata": {},
   "source": [
    "# 选择优化器"
   ]
  },
  {
   "cell_type": "code",
   "execution_count": 15,
   "metadata": {},
   "outputs": [],
   "source": [
    "optimizer=tf.train.AdamOptimizer(learning_rate).minimize(loss_function)"
   ]
  },
  {
   "cell_type": "markdown",
   "metadata": {},
   "source": [
    "# 定义准确率"
   ]
  },
  {
   "cell_type": "code",
   "execution_count": 16,
   "metadata": {},
   "outputs": [],
   "source": [
    "correct_prediction=tf.equal(tf.argmax(y,1),tf.argmax(pred,1))\n",
    "accuracy=tf.reduce_mean(tf.cast(correct_prediction,tf.float32))"
   ]
  },
  {
   "cell_type": "markdown",
   "metadata": {},
   "source": [
    "# 以accuracy准确率以标量"
   ]
  },
  {
   "cell_type": "code",
   "execution_count": 17,
   "metadata": {},
   "outputs": [
    {
     "data": {
      "text/plain": [
       "<tf.Tensor 'accuracy:0' shape=() dtype=string>"
      ]
     },
     "execution_count": 17,
     "metadata": {},
     "output_type": "execute_result"
    }
   ],
   "source": [
    "tf.summary.scalar('accuracy',accuracy)"
   ]
  },
  {
   "cell_type": "markdown",
   "metadata": {},
   "source": [
    "# 训练模型"
   ]
  },
  {
   "cell_type": "code",
   "execution_count": null,
   "metadata": {},
   "outputs": [
    {
     "name": "stdout",
     "output_type": "stream",
     "text": [
      "Train Epoch: 01 Loss= 0.137077391 Accuracy= 0.9630\n",
      "Train Epoch: 02 Loss= 0.166402325 Accuracy= 0.9588\n",
      "Train Epoch: 03 Loss= 0.149445698 Accuracy= 0.9640\n",
      "Train Epoch: 04 Loss= 0.141960323 Accuracy= 0.9650\n",
      "Train Epoch: 05 Loss= 0.121554062 Accuracy= 0.9684\n",
      "Train Epoch: 06 Loss= 0.159920454 Accuracy= 0.9666\n",
      "Train Epoch: 07 Loss= 0.155972570 Accuracy= 0.9676\n",
      "Train Epoch: 08 Loss= 0.145663574 Accuracy= 0.9692\n",
      "Train Epoch: 09 Loss= 0.149761066 Accuracy= 0.9708\n",
      "Train Epoch: 10 Loss= 0.144102395 Accuracy= 0.9730\n",
      "Train Epoch: 11 Loss= 0.168708667 Accuracy= 0.9706\n",
      "Train Epoch: 12 Loss= 0.163702026 Accuracy= 0.9740\n",
      "Train Epoch: 13 Loss= 0.204716191 Accuracy= 0.9682\n",
      "Train Epoch: 14 Loss= 0.176767796 Accuracy= 0.9702\n",
      "Train Epoch: 15 Loss= 0.174972102 Accuracy= 0.9730\n",
      "Train Epoch: 16 Loss= 0.248001680 Accuracy= 0.9708\n",
      "Train Epoch: 17 Loss= 0.208040193 Accuracy= 0.9690\n",
      "Train Epoch: 18 Loss= 0.154676050 Accuracy= 0.9702\n",
      "Train Epoch: 19 Loss= 0.216201752 Accuracy= 0.9716\n",
      "Train Epoch: 20 Loss= 0.202487051 Accuracy= 0.9674\n",
      "Train Epoch: 21 Loss= 0.227410182 Accuracy= 0.9712\n",
      "Train Epoch: 22 Loss= 0.256266505 Accuracy= 0.9690\n",
      "Train Epoch: 23 Loss= 0.216640189 Accuracy= 0.9704\n",
      "Train Epoch: 24 Loss= 0.243894532 Accuracy= 0.9716\n",
      "Train Epoch: 25 Loss= 0.218105540 Accuracy= 0.9658\n",
      "Train Epoch: 26 Loss= 0.277514011 Accuracy= 0.9684\n",
      "Train Epoch: 27 Loss= 0.228681862 Accuracy= 0.9724\n",
      "Train Epoch: 28 Loss= 0.264730513 Accuracy= 0.9718\n",
      "Train Epoch: 29 Loss= 0.286548644 Accuracy= 0.9656\n",
      "Train Epoch: 30 Loss= 0.300841540 Accuracy= 0.9686\n",
      "Train Epoch: 31 Loss= 0.342906624 Accuracy= 0.9700\n",
      "Train Epoch: 32 Loss= 0.311649799 Accuracy= 0.9704\n"
     ]
    }
   ],
   "source": [
    "# 记录训练开始时间\n",
    "from time import time\n",
    "startTime=time()\n",
    "sess=tf.Session()\n",
    "sess.run(tf.global_variables_initializer())\n",
    "##合并所有summary\n",
    "merged_summary_op=tf.summary.merge_all()\n",
    "writer=tf.summary.FileWriter('log/',sess.graph)# 创建写入符\n",
    "\n",
    "##\n",
    "for epoch in range(train_epochs):\n",
    "    for batch in range(total_batch):\n",
    "        xs,ys=mnist.train.next_batch(batch_size)# 读取批次数据\n",
    "        sess.run(optimizer,feed_dict={x:xs,y:ys})#执行批次训练\n",
    "        # total_batch个批次训练完成后，使用验证数据计算误差和准确率\n",
    "        \n",
    "        ##生成summary\n",
    "        summary_str=sess.run(merged_summary_op,feed_dict={x:xs,y:ys})\n",
    "        writer.add_summary(summary_str,epoch)# 将summary写入文件\n",
    "        \n",
    "        ##\n",
    "        loss,acc=sess.run([loss_function,accuracy],feed_dict={x:mnist.validation.images,y:mnist.validation.labels})\n",
    "    if (epoch+1)%display_step==0:\n",
    "        print(\"Train Epoch:\",'%02d'%(epoch+1),\n",
    "                 \"Loss=\",\"{:.9f}\".format(loss),\"Accuracy=\",\"{:.4f}\".format(acc))\n",
    "duration=time()-startTime\n",
    "print(\"Train Finished takes:\",\"{:.2f}\".format(duration))"
   ]
  },
  {
   "cell_type": "code",
   "execution_count": null,
   "metadata": {},
   "outputs": [],
   "source": []
  }
 ],
 "metadata": {
  "kernelspec": {
   "display_name": "Python 3.6.3 64-bit ('TensorFlow': conda)",
   "language": "python",
   "name": "python36364bittensorflowconda38b79ddab0724ed4aff533accc5e8161"
  },
  "language_info": {
   "codemirror_mode": {
    "name": "ipython",
    "version": 3
   },
   "file_extension": ".py",
   "mimetype": "text/x-python",
   "name": "python",
   "nbconvert_exporter": "python",
   "pygments_lexer": "ipython3",
   "version": "3.6.3"
  }
 },
 "nbformat": 4,
 "nbformat_minor": 2
}
