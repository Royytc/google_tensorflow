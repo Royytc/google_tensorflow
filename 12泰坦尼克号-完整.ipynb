{
 "cells": [
  {
   "cell_type": "markdown",
   "metadata": {},
   "source": [
    "# 下载数据包\n"
   ]
  },
  {
   "cell_type": "code",
   "execution_count": 1,
   "metadata": {},
   "outputs": [
    {
     "name": "stdout",
     "output_type": "stream",
     "text": [
      "data/titanic3.xls data file already exists.\n"
     ]
    }
   ],
   "source": [
    "import  urllib.request\n",
    "import os\n",
    "data_url='http://biostat.mc.vanderbilt.edu/wiki/pub/Main/DataSets/titanic3.xls'\n",
    "data_file_path='data/titanic3.xls'\n",
    "if not os.path.isfile(data_file_path):\n",
    "    result=urllib.request.urlretrieve(data_url,data_file_path)\n",
    "    print('downloaded:',result)\n",
    "else:\n",
    "    print(data_file_path,'data file already exists.')"
   ]
  },
  {
   "cell_type": "code",
   "execution_count": 2,
   "metadata": {},
   "outputs": [],
   "source": [
    "import numpy\n",
    "import pandas as pd\n",
    "#读取数据，结果为DataFrame格式\n",
    "df_data=pd.read_excel(data_file_path)"
   ]
  },
  {
   "cell_type": "markdown",
   "metadata": {},
   "source": [
    "# 筛选提取需要特征字段\n",
    "survival 是否存在字段\n",
    "筛选去需要特征字段，去掉ticket，cabin"
   ]
  },
  {
   "cell_type": "code",
   "execution_count": 3,
   "metadata": {},
   "outputs": [],
   "source": [
    "# 筛选特征字段\n",
    "selected_cols=['survived','name','pclass','sex','age','sibsp','parch','fare','embarked']\n",
    "selected_df_data=df_data[selected_cols]"
   ]
  },
  {
   "cell_type": "markdown",
   "metadata": {},
   "source": [
    "# 定义数据预处理"
   ]
  },
  {
   "cell_type": "code",
   "execution_count": 4,
   "metadata": {},
   "outputs": [],
   "source": [
    "from sklearn import preprocessing\n",
    "def prepare_data(df_data):\n",
    "    df=df_data.drop(['name'],axis=1)\n",
    "    age_mean=df['age'].mean()\n",
    "    df['age']=df['age'].fillna(age_mean)\n",
    "    fare_mean=df['fare'].mean()\n",
    "    df['fare']=df['fare'].fillna(fare_mean)\n",
    "    df['sex']=df['sex'].map({'female':0,'male':1}).astype(int)\n",
    "    df['embarked']=df['embarked'].fillna('S')\n",
    "    df['embarked']=df['embarked'].map({'C':0,'Q':1,'S':2}).astype(int)\n",
    "    ndarray_data=df.values# 转换为ndarray数组\n",
    "    features=ndarray_data[:,1:]\n",
    "    label=ndarray_data[:,0]\n",
    "    #特征值标准化\n",
    "    minmax_scale=preprocessing.MinMaxScaler(feature_range=(0,1))\n",
    "    norm_features=minmax_scale.fit_transform(features)\n",
    "    return norm_features,label"
   ]
  },
  {
   "cell_type": "markdown",
   "metadata": {},
   "source": [
    "# shuffle 打乱数据顺序，为后面训练做准备"
   ]
  },
  {
   "cell_type": "code",
   "execution_count": 5,
   "metadata": {},
   "outputs": [],
   "source": [
    "# shuffle打乱数据顺序，通过pandas的抽样函数sample实现，frac为百分比\n",
    "# selected_df_data数据保持不变\n",
    "shuffled_df_data=selected_df_data.sample(frac=1)"
   ]
  },
  {
   "cell_type": "markdown",
   "metadata": {},
   "source": [
    "# 得到处理后的数据集"
   ]
  },
  {
   "cell_type": "code",
   "execution_count": 6,
   "metadata": {},
   "outputs": [],
   "source": [
    "x_data,y_data=prepare_data(shuffled_df_data)"
   ]
  },
  {
   "cell_type": "markdown",
   "metadata": {},
   "source": [
    "# 划分训练集和测试集"
   ]
  },
  {
   "cell_type": "code",
   "execution_count": 7,
   "metadata": {},
   "outputs": [],
   "source": [
    "train_size=int(len(x_data)*0.8)\n",
    "x_train=x_data[:train_size]\n",
    "y_train=y_data[:train_size]\n",
    "x_test=x_data[train_size:]\n",
    "y_test=y_data[train_size:]"
   ]
  },
  {
   "cell_type": "markdown",
   "metadata": {},
   "source": [
    "# keras建模"
   ]
  },
  {
   "cell_type": "code",
   "execution_count": 8,
   "metadata": {},
   "outputs": [],
   "source": [
    "import tensorflow as tf\n",
    "# 建立keras序列模型\n",
    "model=tf.keras.models.Sequential()"
   ]
  },
  {
   "cell_type": "code",
   "execution_count": 9,
   "metadata": {},
   "outputs": [
    {
     "name": "stdout",
     "output_type": "stream",
     "text": [
      "WARNING:tensorflow:From D:\\anaconda\\anaconda\\envs\\TensorFlow\\lib\\site-packages\\tensorflow\\python\\keras\\initializers.py:119: calling RandomUniform.__init__ (from tensorflow.python.ops.init_ops) with dtype is deprecated and will be removed in a future version.\n",
      "Instructions for updating:\n",
      "Call initializer instance with the dtype argument instead of passing it to the constructor\n"
     ]
    }
   ],
   "source": [
    "#加入第一层输入特征7列，也可以是input_shape=（7，）\n",
    "model.add(tf.keras.layers.Dense(units=64,\n",
    "                               input_dim=7,\n",
    "                               use_bias=True,\n",
    "                               kernel_initializer='uniform',\n",
    "                               bias_initializer='zeros',\n",
    "                               activation='relu'))"
   ]
  },
  {
   "cell_type": "code",
   "execution_count": 10,
   "metadata": {},
   "outputs": [],
   "source": [
    "#model.add(tf.keras.layers.Dropout(rate=0.3))"
   ]
  },
  {
   "cell_type": "code",
   "execution_count": 11,
   "metadata": {},
   "outputs": [
    {
     "name": "stdout",
     "output_type": "stream",
     "text": [
      "WARNING:tensorflow:From D:\\anaconda\\anaconda\\envs\\TensorFlow\\lib\\site-packages\\tensorflow\\python\\ops\\init_ops.py:1251: calling VarianceScaling.__init__ (from tensorflow.python.ops.init_ops) with dtype is deprecated and will be removed in a future version.\n",
      "Instructions for updating:\n",
      "Call initializer instance with the dtype argument instead of passing it to the constructor\n"
     ]
    }
   ],
   "source": [
    "model.add(tf.keras.layers.Dense(units=32,\n",
    "                               activation='sigmoid'))"
   ]
  },
  {
   "cell_type": "code",
   "execution_count": 12,
   "metadata": {},
   "outputs": [],
   "source": [
    "#model.add(tf.keras.layers.Dropout(rate=0.3))"
   ]
  },
  {
   "cell_type": "code",
   "execution_count": 13,
   "metadata": {},
   "outputs": [],
   "source": [
    "model.add(tf.keras.layers.Dense(units=1,\n",
    "                               activation='sigmoid'))"
   ]
  },
  {
   "cell_type": "code",
   "execution_count": 14,
   "metadata": {},
   "outputs": [
    {
     "name": "stdout",
     "output_type": "stream",
     "text": [
      "Model: \"sequential\"\n",
      "_________________________________________________________________\n",
      "Layer (type)                 Output Shape              Param #   \n",
      "=================================================================\n",
      "dense (Dense)                (None, 64)                512       \n",
      "_________________________________________________________________\n",
      "dense_1 (Dense)              (None, 32)                2080      \n",
      "_________________________________________________________________\n",
      "dense_2 (Dense)              (None, 1)                 33        \n",
      "=================================================================\n",
      "Total params: 2,625\n",
      "Trainable params: 2,625\n",
      "Non-trainable params: 0\n",
      "_________________________________________________________________\n"
     ]
    }
   ],
   "source": [
    "model.summary()\n"
   ]
  },
  {
   "cell_type": "markdown",
   "metadata": {},
   "source": [
    "# 训练模型"
   ]
  },
  {
   "cell_type": "code",
   "execution_count": 15,
   "metadata": {},
   "outputs": [
    {
     "name": "stdout",
     "output_type": "stream",
     "text": [
      "WARNING:tensorflow:From D:\\anaconda\\anaconda\\envs\\TensorFlow\\lib\\site-packages\\tensorflow\\python\\ops\\nn_impl.py:180: add_dispatch_support.<locals>.wrapper (from tensorflow.python.ops.array_ops) is deprecated and will be removed in a future version.\n",
      "Instructions for updating:\n",
      "Use tf.where in 2.0, which has the same broadcast rule as np.where\n"
     ]
    }
   ],
   "source": [
    "#loss是损失函数名\n",
    "# 用sigmoid作为激活函数，一般损失函数用binary_crossentropy\n",
    "# 用softmax作为激活函数，一般损失函数用categorical_crossentropy\n",
    "model.compile(optimizer=tf.keras.optimizers.Adam(0.03),\n",
    "             loss='binary_crossentropy',\n",
    "             metrics=['accuracy'])"
   ]
  },
  {
   "cell_type": "code",
   "execution_count": 16,
   "metadata": {},
   "outputs": [
    {
     "name": "stdout",
     "output_type": "stream",
     "text": [
      "WARNING:tensorflow:`period` argument is deprecated. Please use `save_freq` to specify the frequency in number of samples seen.\n"
     ]
    }
   ],
   "source": [
    "# 设置回调函数\n",
    "# tf.keras.callbacks.LearningRateScheduler()\n",
    "#tf.keras.callbacks.EarlyStopping\n",
    "logdir='.\\\\logs'\n",
    "checkpoint_path='./checkpoint/Titanic.{epoch:02d}-{val_loss:2f}.ckpt'\n",
    "callbacks=[\n",
    "    tf.keras.callbacks.TensorBoard(log_dir=logdir,\n",
    "                                  histogram_freq=2),\n",
    "    tf.keras.callbacks.ModelCheckpoint(filepath=checkpoint_path,\n",
    "                                      save_weights_only=True,\n",
    "                                      verbose=1,\n",
    "                                      period=5)\n",
    "    \n",
    "]"
   ]
  },
  {
   "cell_type": "code",
   "execution_count": 17,
   "metadata": {},
   "outputs": [
    {
     "name": "stdout",
     "output_type": "stream",
     "text": [
      "Train on 837 samples, validate on 210 samples\n",
      "Epoch 1/100\n",
      "837/837 [==============================] - 1s 991us/sample - loss: 0.5580 - acc: 0.7240 - val_loss: 0.4792 - val_acc: 0.7667\n",
      "Epoch 2/100\n",
      "837/837 [==============================] - 0s 272us/sample - loss: 0.4689 - acc: 0.7897 - val_loss: 0.4765 - val_acc: 0.7762\n",
      "Epoch 3/100\n",
      "837/837 [==============================] - 0s 442us/sample - loss: 0.4721 - acc: 0.7885 - val_loss: 0.4542 - val_acc: 0.8143\n",
      "Epoch 4/100\n",
      "837/837 [==============================] - 0s 289us/sample - loss: 0.4589 - acc: 0.7933 - val_loss: 0.4610 - val_acc: 0.7619\n",
      "Epoch 5/100\n",
      "720/837 [========================>.....] - ETA: 0s - loss: 0.4714 - acc: 0.7917\n",
      "Epoch 00005: saving model to ./checkpoint/Titanic.05-0.445519.ckpt\n",
      "837/837 [==============================] - 1s 2ms/sample - loss: 0.4657 - acc: 0.7957 - val_loss: 0.4455 - val_acc: 0.8095\n",
      "Epoch 6/100\n",
      "837/837 [==============================] - 0s 254us/sample - loss: 0.4770 - acc: 0.7861 - val_loss: 0.4591 - val_acc: 0.7714\n",
      "Epoch 7/100\n",
      "837/837 [==============================] - 1s 684us/sample - loss: 0.4518 - acc: 0.8029 - val_loss: 0.4648 - val_acc: 0.7667\n",
      "Epoch 8/100\n",
      "837/837 [==============================] - 0s 225us/sample - loss: 0.4539 - acc: 0.8065 - val_loss: 0.4546 - val_acc: 0.7857\n",
      "Epoch 9/100\n",
      "837/837 [==============================] - 0s 316us/sample - loss: 0.4697 - acc: 0.7909 - val_loss: 0.4464 - val_acc: 0.8238\n",
      "Epoch 10/100\n",
      "120/837 [===>..........................] - ETA: 0s - loss: 0.4968 - acc: 0.7750\n",
      "Epoch 00010: saving model to ./checkpoint/Titanic.10-0.436655.ckpt\n",
      "837/837 [==============================] - 1s 862us/sample - loss: 0.4422 - acc: 0.8053 - val_loss: 0.4367 - val_acc: 0.8143\n",
      "Epoch 11/100\n",
      "837/837 [==============================] - 0s 384us/sample - loss: 0.4454 - acc: 0.7993 - val_loss: 0.4339 - val_acc: 0.7952\n",
      "Epoch 12/100\n",
      "837/837 [==============================] - 0s 475us/sample - loss: 0.4495 - acc: 0.7993 - val_loss: 0.4494 - val_acc: 0.7810\n",
      "Epoch 13/100\n",
      "837/837 [==============================] - 0s 530us/sample - loss: 0.4531 - acc: 0.8065 - val_loss: 0.4687 - val_acc: 0.7667\n",
      "Epoch 14/100\n",
      "837/837 [==============================] - 0s 535us/sample - loss: 0.4599 - acc: 0.7969 - val_loss: 0.4531 - val_acc: 0.7667\n",
      "Epoch 15/100\n",
      "440/837 [==============>...............] - ETA: 0s - loss: 0.4195 - acc: 0.8273\n",
      "Epoch 00015: saving model to ./checkpoint/Titanic.15-0.448696.ckpt\n",
      "837/837 [==============================] - 1s 983us/sample - loss: 0.4437 - acc: 0.8100 - val_loss: 0.4487 - val_acc: 0.7810\n",
      "Epoch 16/100\n",
      "837/837 [==============================] - 0s 275us/sample - loss: 0.4429 - acc: 0.8053 - val_loss: 0.4382 - val_acc: 0.8048\n",
      "Epoch 17/100\n",
      "837/837 [==============================] - 0s 306us/sample - loss: 0.4377 - acc: 0.8100 - val_loss: 0.4302 - val_acc: 0.8095\n",
      "Epoch 18/100\n",
      "837/837 [==============================] - 0s 443us/sample - loss: 0.4352 - acc: 0.8112 - val_loss: 0.4432 - val_acc: 0.7905\n",
      "Epoch 19/100\n",
      "837/837 [==============================] - 0s 367us/sample - loss: 0.4349 - acc: 0.8065 - val_loss: 0.4231 - val_acc: 0.8095\n",
      "Epoch 20/100\n",
      "560/837 [===================>..........] - ETA: 0s - loss: 0.4478 - acc: 0.8036\n",
      "Epoch 00020: saving model to ./checkpoint/Titanic.20-0.461786.ckpt\n",
      "837/837 [==============================] - 1s 776us/sample - loss: 0.4358 - acc: 0.8124 - val_loss: 0.4618 - val_acc: 0.8143\n",
      "Epoch 21/100\n",
      "837/837 [==============================] - 1s 611us/sample - loss: 0.4424 - acc: 0.8136 - val_loss: 0.4276 - val_acc: 0.7952\n",
      "Epoch 22/100\n",
      "837/837 [==============================] - 0s 235us/sample - loss: 0.4395 - acc: 0.8029 - val_loss: 0.4214 - val_acc: 0.8190\n",
      "Epoch 23/100\n",
      "837/837 [==============================] - 0s 273us/sample - loss: 0.4396 - acc: 0.8136 - val_loss: 0.4417 - val_acc: 0.8190\n",
      "Epoch 24/100\n",
      "837/837 [==============================] - 0s 466us/sample - loss: 0.4366 - acc: 0.8100 - val_loss: 0.4215 - val_acc: 0.8143\n",
      "Epoch 25/100\n",
      "400/837 [=============>................] - ETA: 0s - loss: 0.3953 - acc: 0.8350\n",
      "Epoch 00025: saving model to ./checkpoint/Titanic.25-0.427688.ckpt\n",
      "837/837 [==============================] - 1s 757us/sample - loss: 0.4282 - acc: 0.8160 - val_loss: 0.4277 - val_acc: 0.8095\n",
      "Epoch 26/100\n",
      "837/837 [==============================] - 0s 467us/sample - loss: 0.4324 - acc: 0.8124 - val_loss: 0.4266 - val_acc: 0.7857\n",
      "Epoch 27/100\n",
      "837/837 [==============================] - 0s 276us/sample - loss: 0.4307 - acc: 0.8041 - val_loss: 0.4250 - val_acc: 0.8048\n",
      "Epoch 28/100\n",
      "837/837 [==============================] - 0s 245us/sample - loss: 0.4280 - acc: 0.8160 - val_loss: 0.4274 - val_acc: 0.8238\n",
      "Epoch 29/100\n",
      "837/837 [==============================] - 0s 534us/sample - loss: 0.4372 - acc: 0.8029 - val_loss: 0.4225 - val_acc: 0.8190\n",
      "Epoch 30/100\n",
      "560/837 [===================>..........] - ETA: 0s - loss: 0.4058 - acc: 0.8286\n",
      "Epoch 00030: saving model to ./checkpoint/Titanic.30-0.417037.ckpt\n",
      "837/837 [==============================] - 1s 683us/sample - loss: 0.4277 - acc: 0.8208 - val_loss: 0.4170 - val_acc: 0.8190\n",
      "Epoch 31/100\n",
      "837/837 [==============================] - 1s 672us/sample - loss: 0.4259 - acc: 0.8172 - val_loss: 0.4244 - val_acc: 0.8000\n",
      "Epoch 32/100\n",
      "837/837 [==============================] - 0s 462us/sample - loss: 0.4353 - acc: 0.8124 - val_loss: 0.4298 - val_acc: 0.8238\n",
      "Epoch 33/100\n",
      "837/837 [==============================] - 0s 523us/sample - loss: 0.4279 - acc: 0.8112 - val_loss: 0.4174 - val_acc: 0.8095\n",
      "Epoch 34/100\n",
      "837/837 [==============================] - 1s 676us/sample - loss: 0.4296 - acc: 0.8184 - val_loss: 0.4222 - val_acc: 0.8095\n",
      "Epoch 35/100\n",
      "800/837 [===========================>..] - ETA: 0s - loss: 0.4222 - acc: 0.8163\n",
      "Epoch 00035: saving model to ./checkpoint/Titanic.35-0.432112.ckpt\n",
      "837/837 [==============================] - 1s 1ms/sample - loss: 0.4292 - acc: 0.8136 - val_loss: 0.4321 - val_acc: 0.8048\n",
      "Epoch 36/100\n",
      "837/837 [==============================] - 0s 273us/sample - loss: 0.4291 - acc: 0.8160 - val_loss: 0.4188 - val_acc: 0.8095\n",
      "Epoch 37/100\n",
      "837/837 [==============================] - 0s 492us/sample - loss: 0.4324 - acc: 0.8100 - val_loss: 0.4209 - val_acc: 0.8095\n",
      "Epoch 38/100\n",
      "837/837 [==============================] - 0s 227us/sample - loss: 0.4296 - acc: 0.8136 - val_loss: 0.4155 - val_acc: 0.8238\n",
      "Epoch 39/100\n",
      "837/837 [==============================] - 0s 316us/sample - loss: 0.4309 - acc: 0.8088 - val_loss: 0.4221 - val_acc: 0.8048\n",
      "Epoch 40/100\n",
      "800/837 [===========================>..] - ETA: 0s - loss: 0.4243 - acc: 0.8150\n",
      "Epoch 00040: saving model to ./checkpoint/Titanic.40-0.416580.ckpt\n",
      "837/837 [==============================] - 1s 1ms/sample - loss: 0.4195 - acc: 0.8184 - val_loss: 0.4166 - val_acc: 0.8190\n",
      "Epoch 41/100\n",
      "837/837 [==============================] - 0s 420us/sample - loss: 0.4242 - acc: 0.8124 - val_loss: 0.4119 - val_acc: 0.8286\n",
      "Epoch 42/100\n",
      "837/837 [==============================] - 0s 246us/sample - loss: 0.4156 - acc: 0.8184 - val_loss: 0.4203 - val_acc: 0.8286\n",
      "Epoch 43/100\n",
      "837/837 [==============================] - 0s 336us/sample - loss: 0.4240 - acc: 0.8184 - val_loss: 0.4135 - val_acc: 0.8238\n",
      "Epoch 44/100\n",
      "837/837 [==============================] - 0s 246us/sample - loss: 0.4258 - acc: 0.8184 - val_loss: 0.4353 - val_acc: 0.8143\n",
      "Epoch 45/100\n",
      "640/837 [=====================>........] - ETA: 0s - loss: 0.4144 - acc: 0.8250\n",
      "Epoch 00045: saving model to ./checkpoint/Titanic.45-0.431544.ckpt\n",
      "837/837 [==============================] - 1s 1ms/sample - loss: 0.4303 - acc: 0.8124 - val_loss: 0.4315 - val_acc: 0.8000\n",
      "Epoch 46/100\n",
      "837/837 [==============================] - 1s 604us/sample - loss: 0.4426 - acc: 0.8088 - val_loss: 0.4239 - val_acc: 0.7952\n",
      "Epoch 47/100\n",
      "837/837 [==============================] - 0s 473us/sample - loss: 0.4180 - acc: 0.8160 - val_loss: 0.4122 - val_acc: 0.8048\n",
      "Epoch 48/100\n",
      "837/837 [==============================] - 1s 684us/sample - loss: 0.4193 - acc: 0.8160 - val_loss: 0.4127 - val_acc: 0.8048\n",
      "Epoch 49/100\n",
      "837/837 [==============================] - 0s 404us/sample - loss: 0.4211 - acc: 0.8172 - val_loss: 0.4077 - val_acc: 0.8143\n",
      "Epoch 50/100\n"
     ]
    },
    {
     "name": "stdout",
     "output_type": "stream",
     "text": [
      "440/837 [==============>...............] - ETA: 0s - loss: 0.4324 - acc: 0.8000\n",
      "Epoch 00050: saving model to ./checkpoint/Titanic.50-0.420479.ckpt\n",
      "837/837 [==============================] - 1s 773us/sample - loss: 0.4169 - acc: 0.8148 - val_loss: 0.4205 - val_acc: 0.8095\n",
      "Epoch 51/100\n",
      "837/837 [==============================] - 0s 374us/sample - loss: 0.4245 - acc: 0.8196 - val_loss: 0.4100 - val_acc: 0.8143\n",
      "Epoch 52/100\n",
      "837/837 [==============================] - 0s 254us/sample - loss: 0.4124 - acc: 0.8172 - val_loss: 0.4115 - val_acc: 0.8095\n",
      "Epoch 53/100\n",
      "837/837 [==============================] - 1s 663us/sample - loss: 0.4193 - acc: 0.8136 - val_loss: 0.4085 - val_acc: 0.8048\n",
      "Epoch 54/100\n",
      "837/837 [==============================] - 0s 466us/sample - loss: 0.4115 - acc: 0.8208 - val_loss: 0.4079 - val_acc: 0.8048\n",
      "Epoch 55/100\n",
      "680/837 [=======================>......] - ETA: 0s - loss: 0.4299 - acc: 0.8044\n",
      "Epoch 00055: saving model to ./checkpoint/Titanic.55-0.409594.ckpt\n",
      "837/837 [==============================] - 1s 777us/sample - loss: 0.4151 - acc: 0.8172 - val_loss: 0.4096 - val_acc: 0.8143\n",
      "Epoch 56/100\n",
      "837/837 [==============================] - 0s 272us/sample - loss: 0.4213 - acc: 0.8136 - val_loss: 0.4082 - val_acc: 0.8095\n",
      "Epoch 57/100\n",
      "837/837 [==============================] - 0s 304us/sample - loss: 0.4129 - acc: 0.8112 - val_loss: 0.4079 - val_acc: 0.8095\n",
      "Epoch 58/100\n",
      "837/837 [==============================] - 0s 314us/sample - loss: 0.4166 - acc: 0.8160 - val_loss: 0.4063 - val_acc: 0.8000\n",
      "Epoch 59/100\n",
      "837/837 [==============================] - 0s 287us/sample - loss: 0.4080 - acc: 0.8208 - val_loss: 0.4127 - val_acc: 0.8095\n",
      "Epoch 60/100\n",
      "720/837 [========================>.....] - ETA: 0s - loss: 0.4109 - acc: 0.8222\n",
      "Epoch 00060: saving model to ./checkpoint/Titanic.60-0.406455.ckpt\n",
      "837/837 [==============================] - 1s 654us/sample - loss: 0.4136 - acc: 0.8208 - val_loss: 0.4065 - val_acc: 0.8048\n",
      "Epoch 61/100\n",
      "837/837 [==============================] - 0s 443us/sample - loss: 0.4085 - acc: 0.8244 - val_loss: 0.4062 - val_acc: 0.8095\n",
      "Epoch 62/100\n",
      "837/837 [==============================] - 0s 236us/sample - loss: 0.4141 - acc: 0.8172 - val_loss: 0.4151 - val_acc: 0.8143\n",
      "Epoch 63/100\n",
      "837/837 [==============================] - 0s 312us/sample - loss: 0.4111 - acc: 0.8196 - val_loss: 0.4090 - val_acc: 0.8190\n",
      "Epoch 64/100\n",
      "837/837 [==============================] - 0s 497us/sample - loss: 0.4088 - acc: 0.8172 - val_loss: 0.4051 - val_acc: 0.8095\n",
      "Epoch 65/100\n",
      "680/837 [=======================>......] - ETA: 0s - loss: 0.4104 - acc: 0.8176\n",
      "Epoch 00065: saving model to ./checkpoint/Titanic.65-0.412296.ckpt\n",
      "837/837 [==============================] - 1s 1ms/sample - loss: 0.4035 - acc: 0.8220 - val_loss: 0.4123 - val_acc: 0.8048\n",
      "Epoch 66/100\n",
      "837/837 [==============================] - 0s 334us/sample - loss: 0.4115 - acc: 0.8172 - val_loss: 0.4120 - val_acc: 0.8095\n",
      "Epoch 67/100\n",
      "837/837 [==============================] - 0s 513us/sample - loss: 0.4132 - acc: 0.8208 - val_loss: 0.4092 - val_acc: 0.8095\n",
      "Epoch 68/100\n",
      "837/837 [==============================] - 0s 492us/sample - loss: 0.4081 - acc: 0.8220 - val_loss: 0.4032 - val_acc: 0.8048\n",
      "Epoch 69/100\n",
      "837/837 [==============================] - 0s 542us/sample - loss: 0.4099 - acc: 0.8208 - val_loss: 0.4107 - val_acc: 0.8048\n",
      "Epoch 70/100\n",
      "800/837 [===========================>..] - ETA: 0s - loss: 0.4108 - acc: 0.8163\n",
      "Epoch 00070: saving model to ./checkpoint/Titanic.70-0.421748.ckpt\n",
      "837/837 [==============================] - 1s 1ms/sample - loss: 0.4105 - acc: 0.8172 - val_loss: 0.4217 - val_acc: 0.8048\n",
      "Epoch 71/100\n",
      "837/837 [==============================] - 0s 381us/sample - loss: 0.4023 - acc: 0.8232 - val_loss: 0.4176 - val_acc: 0.8095\n",
      "Epoch 72/100\n",
      "837/837 [==============================] - 0s 221us/sample - loss: 0.3986 - acc: 0.8244 - val_loss: 0.4087 - val_acc: 0.8095\n",
      "Epoch 73/100\n",
      "837/837 [==============================] - 0s 293us/sample - loss: 0.4005 - acc: 0.8292 - val_loss: 0.4196 - val_acc: 0.8048\n",
      "Epoch 74/100\n",
      "837/837 [==============================] - 0s 306us/sample - loss: 0.4002 - acc: 0.8208 - val_loss: 0.4384 - val_acc: 0.8000\n",
      "Epoch 75/100\n",
      "440/837 [==============>...............] - ETA: 0s - loss: 0.3808 - acc: 0.8318\n",
      "Epoch 00075: saving model to ./checkpoint/Titanic.75-0.412226.ckpt\n",
      "837/837 [==============================] - 1s 835us/sample - loss: 0.4030 - acc: 0.8220 - val_loss: 0.4122 - val_acc: 0.8048\n",
      "Epoch 76/100\n",
      "837/837 [==============================] - 0s 253us/sample - loss: 0.4008 - acc: 0.8220 - val_loss: 0.4194 - val_acc: 0.8048\n",
      "Epoch 77/100\n",
      "837/837 [==============================] - 0s 435us/sample - loss: 0.4061 - acc: 0.8244 - val_loss: 0.4104 - val_acc: 0.7952\n",
      "Epoch 78/100\n",
      "837/837 [==============================] - 0s 244us/sample - loss: 0.4026 - acc: 0.8244 - val_loss: 0.4216 - val_acc: 0.8143\n",
      "Epoch 79/100\n",
      "837/837 [==============================] - 0s 276us/sample - loss: 0.3967 - acc: 0.8268 - val_loss: 0.4072 - val_acc: 0.8048\n",
      "Epoch 80/100\n",
      "680/837 [=======================>......] - ETA: 0s - loss: 0.4211 - acc: 0.8088\n",
      "Epoch 00080: saving model to ./checkpoint/Titanic.80-0.403602.ckpt\n",
      "837/837 [==============================] - 1s 850us/sample - loss: 0.4018 - acc: 0.8244 - val_loss: 0.4036 - val_acc: 0.8095\n",
      "Epoch 81/100\n",
      "837/837 [==============================] - 0s 285us/sample - loss: 0.4027 - acc: 0.8220 - val_loss: 0.4133 - val_acc: 0.8095\n",
      "Epoch 82/100\n",
      "837/837 [==============================] - 0s 285us/sample - loss: 0.3990 - acc: 0.8232 - val_loss: 0.4168 - val_acc: 0.8095\n",
      "Epoch 83/100\n",
      "837/837 [==============================] - 0s 370us/sample - loss: 0.3953 - acc: 0.8208 - val_loss: 0.4157 - val_acc: 0.8048\n",
      "Epoch 84/100\n",
      "837/837 [==============================] - 0s 351us/sample - loss: 0.3960 - acc: 0.8220 - val_loss: 0.4183 - val_acc: 0.8143\n",
      "Epoch 85/100\n",
      "760/837 [==========================>...] - ETA: 0s - loss: 0.3868 - acc: 0.8329\n",
      "Epoch 00085: saving model to ./checkpoint/Titanic.85-0.412752.ckpt\n",
      "837/837 [==============================] - 1s 814us/sample - loss: 0.3919 - acc: 0.8268 - val_loss: 0.4128 - val_acc: 0.8000\n",
      "Epoch 86/100\n",
      "837/837 [==============================] - 0s 339us/sample - loss: 0.3912 - acc: 0.8268 - val_loss: 0.4105 - val_acc: 0.8048\n",
      "Epoch 87/100\n",
      "837/837 [==============================] - 0s 487us/sample - loss: 0.3961 - acc: 0.8256 - val_loss: 0.4194 - val_acc: 0.8048\n",
      "Epoch 88/100\n",
      "837/837 [==============================] - 0s 306us/sample - loss: 0.3904 - acc: 0.8292 - val_loss: 0.4268 - val_acc: 0.8048\n",
      "Epoch 89/100\n",
      "837/837 [==============================] - 0s 521us/sample - loss: 0.3948 - acc: 0.8220 - val_loss: 0.4185 - val_acc: 0.8095\n",
      "Epoch 90/100\n",
      "560/837 [===================>..........] - ETA: 0s - loss: 0.3918 - acc: 0.8321\n",
      "Epoch 00090: saving model to ./checkpoint/Titanic.90-0.427320.ckpt\n",
      "837/837 [==============================] - 1s 965us/sample - loss: 0.3943 - acc: 0.8280 - val_loss: 0.4273 - val_acc: 0.8000\n",
      "Epoch 91/100\n",
      "837/837 [==============================] - 0s 593us/sample - loss: 0.3887 - acc: 0.8268 - val_loss: 0.4248 - val_acc: 0.7952\n",
      "Epoch 92/100\n",
      "837/837 [==============================] - 0s 479us/sample - loss: 0.3881 - acc: 0.8220 - val_loss: 0.4344 - val_acc: 0.7952\n",
      "Epoch 93/100\n",
      "837/837 [==============================] - 0s 466us/sample - loss: 0.3903 - acc: 0.8292 - val_loss: 0.4146 - val_acc: 0.8048\n",
      "Epoch 94/100\n",
      "837/837 [==============================] - 0s 512us/sample - loss: 0.3923 - acc: 0.8244 - val_loss: 0.4198 - val_acc: 0.8048\n",
      "Epoch 95/100\n",
      "400/837 [=============>................] - ETA: 0s - loss: 0.3529 - acc: 0.8475\n",
      "Epoch 00095: saving model to ./checkpoint/Titanic.95-0.409962.ckpt\n",
      "837/837 [==============================] - 1s 874us/sample - loss: 0.3916 - acc: 0.8208 - val_loss: 0.4100 - val_acc: 0.8000\n",
      "Epoch 96/100\n",
      "837/837 [==============================] - 0s 395us/sample - loss: 0.3926 - acc: 0.8196 - val_loss: 0.4175 - val_acc: 0.7952\n",
      "Epoch 97/100\n",
      "837/837 [==============================] - 0s 338us/sample - loss: 0.3890 - acc: 0.8220 - val_loss: 0.4244 - val_acc: 0.7952\n",
      "Epoch 98/100\n",
      "837/837 [==============================] - 0s 347us/sample - loss: 0.3901 - acc: 0.8256 - val_loss: 0.4355 - val_acc: 0.8000\n"
     ]
    },
    {
     "name": "stdout",
     "output_type": "stream",
     "text": [
      "Epoch 99/100\n",
      "837/837 [==============================] - 0s 369us/sample - loss: 0.3984 - acc: 0.8256 - val_loss: 0.4294 - val_acc: 0.7857\n",
      "Epoch 100/100\n",
      "560/837 [===================>..........] - ETA: 0s - loss: 0.3952 - acc: 0.8125\n",
      "Epoch 00100: saving model to ./checkpoint/Titanic.100-0.430910.ckpt\n",
      "837/837 [==============================] - 1s 704us/sample - loss: 0.3930 - acc: 0.8148 - val_loss: 0.4309 - val_acc: 0.8095\n"
     ]
    }
   ],
   "source": [
    "#fit 做真正的训练\n",
    "# x输入特征值\n",
    "#y标签数据\n",
    "#validation_split验证集占的比例\n",
    "#verbose:训练过程显示取值0：不显示，1：带进度调模式，2每个epoch显示\n",
    "# 返回值，过程历时对象，包含loss和acc数据\n",
    "train_history=model.fit(x=x_train,\n",
    "                       y=y_train,\n",
    "                       validation_split=0.2,\n",
    "                       epochs=100,\n",
    "                       batch_size=40,\n",
    "                        callbacks=callbacks,\n",
    "                       verbose=1)"
   ]
  },
  {
   "cell_type": "markdown",
   "metadata": {},
   "source": [
    "model.fit()返回一个history对象，该对象包含一个字典，其中包含训练期间所有情况"
   ]
  },
  {
   "cell_type": "code",
   "execution_count": 18,
   "metadata": {},
   "outputs": [
    {
     "data": {
      "text/plain": [
       "{'loss': [0.5579911396352478,\n",
       "  0.4688593656216329,\n",
       "  0.4720932124905831,\n",
       "  0.4589468238601548,\n",
       "  0.4657484563234459,\n",
       "  0.4770127247168884,\n",
       "  0.4518154235367564,\n",
       "  0.4538560429923993,\n",
       "  0.46968690668240526,\n",
       "  0.4421916669913375,\n",
       "  0.445420704007576,\n",
       "  0.44953654174166624,\n",
       "  0.45314810235440517,\n",
       "  0.4599493030934921,\n",
       "  0.44369399704243834,\n",
       "  0.44294807816919035,\n",
       "  0.43772351065274495,\n",
       "  0.4352135008986563,\n",
       "  0.43492287397384644,\n",
       "  0.4358134263305254,\n",
       "  0.4423910667819361,\n",
       "  0.439537002977647,\n",
       "  0.4396447104222743,\n",
       "  0.4365814348133092,\n",
       "  0.4281803080756462,\n",
       "  0.4324358625152775,\n",
       "  0.43068693676160086,\n",
       "  0.4279882072191797,\n",
       "  0.437237203922323,\n",
       "  0.4276607395856326,\n",
       "  0.42592096859266537,\n",
       "  0.4352967923544926,\n",
       "  0.4278652539817236,\n",
       "  0.42960794492576854,\n",
       "  0.42917980878583845,\n",
       "  0.42908630921564367,\n",
       "  0.4323552481233718,\n",
       "  0.429559542714054,\n",
       "  0.43092088342567497,\n",
       "  0.419474073778059,\n",
       "  0.42423845259661885,\n",
       "  0.41563475053655063,\n",
       "  0.42402823178571614,\n",
       "  0.42584151214738614,\n",
       "  0.43026091199337085,\n",
       "  0.44259834506748114,\n",
       "  0.41800629658226185,\n",
       "  0.41930399195979856,\n",
       "  0.4211481013819308,\n",
       "  0.41685536354246105,\n",
       "  0.4244945595127707,\n",
       "  0.4123587023328852,\n",
       "  0.4192750179781851,\n",
       "  0.41152543854969803,\n",
       "  0.41514150600706806,\n",
       "  0.4212625428339914,\n",
       "  0.41292571181179943,\n",
       "  0.4166039917773813,\n",
       "  0.4079649248288381,\n",
       "  0.4136298955056545,\n",
       "  0.4084564174660075,\n",
       "  0.41411584124342943,\n",
       "  0.4111469569243268,\n",
       "  0.4087885306656289,\n",
       "  0.40351336916715014,\n",
       "  0.41146598943245455,\n",
       "  0.41319991454143823,\n",
       "  0.4080696117707051,\n",
       "  0.40993228803968484,\n",
       "  0.4105209552259001,\n",
       "  0.40232189382418654,\n",
       "  0.39856272248669194,\n",
       "  0.40045939490929017,\n",
       "  0.40018265485193855,\n",
       "  0.40296089221927,\n",
       "  0.40082550889132557,\n",
       "  0.4061281026264245,\n",
       "  0.40261921372037635,\n",
       "  0.39666750126272404,\n",
       "  0.40176427880638105,\n",
       "  0.40270555204530484,\n",
       "  0.3990118055645568,\n",
       "  0.3952957272814451,\n",
       "  0.396038067027517,\n",
       "  0.39188636492230133,\n",
       "  0.3912215414796394,\n",
       "  0.3961346162974906,\n",
       "  0.39036425709582,\n",
       "  0.3948246667889284,\n",
       "  0.39425101669743357,\n",
       "  0.3887420884882108,\n",
       "  0.38805875719804206,\n",
       "  0.39033828983739854,\n",
       "  0.3923433759876192,\n",
       "  0.3916019884916189,\n",
       "  0.3926355923874261,\n",
       "  0.3889892153272777,\n",
       "  0.3900889615787543,\n",
       "  0.39839889780310034,\n",
       "  0.3930153633104003],\n",
       " 'acc': [0.72401434,\n",
       "  0.7897252,\n",
       "  0.78853047,\n",
       "  0.79330945,\n",
       "  0.79569894,\n",
       "  0.786141,\n",
       "  0.8028674,\n",
       "  0.8064516,\n",
       "  0.79091996,\n",
       "  0.80525684,\n",
       "  0.79928315,\n",
       "  0.79928315,\n",
       "  0.8064516,\n",
       "  0.79689366,\n",
       "  0.8100358,\n",
       "  0.80525684,\n",
       "  0.8100358,\n",
       "  0.8112306,\n",
       "  0.8064516,\n",
       "  0.8124253,\n",
       "  0.8136201,\n",
       "  0.8028674,\n",
       "  0.8136201,\n",
       "  0.8100358,\n",
       "  0.8160096,\n",
       "  0.8124253,\n",
       "  0.8040621,\n",
       "  0.8160096,\n",
       "  0.8028674,\n",
       "  0.8207885,\n",
       "  0.8172043,\n",
       "  0.8124253,\n",
       "  0.8112306,\n",
       "  0.8183991,\n",
       "  0.8136201,\n",
       "  0.8160096,\n",
       "  0.8100358,\n",
       "  0.8136201,\n",
       "  0.8088411,\n",
       "  0.8183991,\n",
       "  0.8124253,\n",
       "  0.8183991,\n",
       "  0.8183991,\n",
       "  0.8183991,\n",
       "  0.8124253,\n",
       "  0.8088411,\n",
       "  0.8160096,\n",
       "  0.8160096,\n",
       "  0.8172043,\n",
       "  0.8148148,\n",
       "  0.8195938,\n",
       "  0.8172043,\n",
       "  0.8136201,\n",
       "  0.8207885,\n",
       "  0.8172043,\n",
       "  0.8136201,\n",
       "  0.8112306,\n",
       "  0.8160096,\n",
       "  0.8207885,\n",
       "  0.8207885,\n",
       "  0.82437277,\n",
       "  0.8172043,\n",
       "  0.8195938,\n",
       "  0.8172043,\n",
       "  0.8219833,\n",
       "  0.8172043,\n",
       "  0.8207885,\n",
       "  0.8219833,\n",
       "  0.8207885,\n",
       "  0.8172043,\n",
       "  0.823178,\n",
       "  0.82437277,\n",
       "  0.82915175,\n",
       "  0.8207885,\n",
       "  0.8219833,\n",
       "  0.8219833,\n",
       "  0.82437277,\n",
       "  0.82437277,\n",
       "  0.82676226,\n",
       "  0.82437277,\n",
       "  0.8219833,\n",
       "  0.823178,\n",
       "  0.8207885,\n",
       "  0.8219833,\n",
       "  0.82676226,\n",
       "  0.82676226,\n",
       "  0.8255675,\n",
       "  0.82915175,\n",
       "  0.8219833,\n",
       "  0.827957,\n",
       "  0.82676226,\n",
       "  0.8219833,\n",
       "  0.82915175,\n",
       "  0.82437277,\n",
       "  0.8207885,\n",
       "  0.8195938,\n",
       "  0.8219833,\n",
       "  0.8255675,\n",
       "  0.8255675,\n",
       "  0.8148148],\n",
       " 'val_loss': [0.4791928586505708,\n",
       "  0.4765317865780422,\n",
       "  0.4542158643404643,\n",
       "  0.46097986754916964,\n",
       "  0.44551865259806317,\n",
       "  0.4590751074609302,\n",
       "  0.46483406566438223,\n",
       "  0.45459453974451336,\n",
       "  0.446353881132035,\n",
       "  0.4366552588485536,\n",
       "  0.4338536787600744,\n",
       "  0.449387116091592,\n",
       "  0.46865647179739817,\n",
       "  0.45314621925354004,\n",
       "  0.4486962684563228,\n",
       "  0.4381709893544515,\n",
       "  0.43016915094284786,\n",
       "  0.44321848097301664,\n",
       "  0.42306276446297053,\n",
       "  0.46178641560531797,\n",
       "  0.4276130852245149,\n",
       "  0.42137618575777325,\n",
       "  0.4416816262971787,\n",
       "  0.4215459255945115,\n",
       "  0.4276881544362931,\n",
       "  0.4266430295649029,\n",
       "  0.42501866533642724,\n",
       "  0.42737066178094774,\n",
       "  0.4224788887160165,\n",
       "  0.417037369239898,\n",
       "  0.4244011186418079,\n",
       "  0.429806520541509,\n",
       "  0.41744892370133174,\n",
       "  0.4221812401499067,\n",
       "  0.43211219424293157,\n",
       "  0.4187632231485276,\n",
       "  0.4209498720509665,\n",
       "  0.41547242232731413,\n",
       "  0.4221301816758655,\n",
       "  0.41658019168036325,\n",
       "  0.41192005077997845,\n",
       "  0.4203274619011652,\n",
       "  0.4135295521645319,\n",
       "  0.4353001656986418,\n",
       "  0.43154395194280715,\n",
       "  0.4238760159129188,\n",
       "  0.4122326970100403,\n",
       "  0.41265055253392174,\n",
       "  0.4076579567931947,\n",
       "  0.4204792593206678,\n",
       "  0.4099500065758115,\n",
       "  0.41145204646246775,\n",
       "  0.4084752741314116,\n",
       "  0.4078703125317891,\n",
       "  0.40959409021195914,\n",
       "  0.4081659203483945,\n",
       "  0.407863404069628,\n",
       "  0.4063271681467692,\n",
       "  0.4127055065972464,\n",
       "  0.4064546823501587,\n",
       "  0.40620722089494976,\n",
       "  0.415071013427916,\n",
       "  0.4089874582631247,\n",
       "  0.40514284656161353,\n",
       "  0.41229583819707233,\n",
       "  0.4120051690510341,\n",
       "  0.4092318571749188,\n",
       "  0.40324414769808453,\n",
       "  0.4107310729367392,\n",
       "  0.42174830890837167,\n",
       "  0.417582977385748,\n",
       "  0.408706750188555,\n",
       "  0.4196393695615587,\n",
       "  0.43842558491797673,\n",
       "  0.4122255103928702,\n",
       "  0.41939851499739145,\n",
       "  0.4103795034544809,\n",
       "  0.4216350274426596,\n",
       "  0.4072200031507583,\n",
       "  0.4036023361342294,\n",
       "  0.41333293489047457,\n",
       "  0.4168440926642645,\n",
       "  0.4157269142922901,\n",
       "  0.4182761481830052,\n",
       "  0.41275174135253545,\n",
       "  0.41049777609961374,\n",
       "  0.4194478818348476,\n",
       "  0.42676899546668645,\n",
       "  0.41850840690590085,\n",
       "  0.4273201170421782,\n",
       "  0.4248433368546622,\n",
       "  0.4344466073172433,\n",
       "  0.41459162746156963,\n",
       "  0.41982007771730423,\n",
       "  0.4099618650618054,\n",
       "  0.4174605778285435,\n",
       "  0.42444858096894766,\n",
       "  0.43545083204905194,\n",
       "  0.4294010599454244,\n",
       "  0.43091048229308354],\n",
       " 'val_acc': [0.76666665,\n",
       "  0.77619046,\n",
       "  0.8142857,\n",
       "  0.7619048,\n",
       "  0.8095238,\n",
       "  0.7714286,\n",
       "  0.76666665,\n",
       "  0.78571427,\n",
       "  0.8238095,\n",
       "  0.8142857,\n",
       "  0.7952381,\n",
       "  0.7809524,\n",
       "  0.76666665,\n",
       "  0.76666665,\n",
       "  0.7809524,\n",
       "  0.8047619,\n",
       "  0.8095238,\n",
       "  0.7904762,\n",
       "  0.8095238,\n",
       "  0.8142857,\n",
       "  0.7952381,\n",
       "  0.81904763,\n",
       "  0.81904763,\n",
       "  0.8142857,\n",
       "  0.8095238,\n",
       "  0.78571427,\n",
       "  0.8047619,\n",
       "  0.8238095,\n",
       "  0.81904763,\n",
       "  0.81904763,\n",
       "  0.8,\n",
       "  0.8238095,\n",
       "  0.8095238,\n",
       "  0.8095238,\n",
       "  0.8047619,\n",
       "  0.8095238,\n",
       "  0.8095238,\n",
       "  0.8238095,\n",
       "  0.8047619,\n",
       "  0.81904763,\n",
       "  0.82857144,\n",
       "  0.82857144,\n",
       "  0.8238095,\n",
       "  0.8142857,\n",
       "  0.8,\n",
       "  0.7952381,\n",
       "  0.8047619,\n",
       "  0.8047619,\n",
       "  0.8142857,\n",
       "  0.8095238,\n",
       "  0.8142857,\n",
       "  0.8095238,\n",
       "  0.8047619,\n",
       "  0.8047619,\n",
       "  0.8142857,\n",
       "  0.8095238,\n",
       "  0.8095238,\n",
       "  0.8,\n",
       "  0.8095238,\n",
       "  0.8047619,\n",
       "  0.8095238,\n",
       "  0.8142857,\n",
       "  0.81904763,\n",
       "  0.8095238,\n",
       "  0.8047619,\n",
       "  0.8095238,\n",
       "  0.8095238,\n",
       "  0.8047619,\n",
       "  0.8047619,\n",
       "  0.8047619,\n",
       "  0.8095238,\n",
       "  0.8095238,\n",
       "  0.8047619,\n",
       "  0.8,\n",
       "  0.8047619,\n",
       "  0.8047619,\n",
       "  0.7952381,\n",
       "  0.8142857,\n",
       "  0.8047619,\n",
       "  0.8095238,\n",
       "  0.8095238,\n",
       "  0.8095238,\n",
       "  0.8047619,\n",
       "  0.8142857,\n",
       "  0.8,\n",
       "  0.8047619,\n",
       "  0.8047619,\n",
       "  0.8047619,\n",
       "  0.8095238,\n",
       "  0.8,\n",
       "  0.7952381,\n",
       "  0.7952381,\n",
       "  0.8047619,\n",
       "  0.8047619,\n",
       "  0.8,\n",
       "  0.7952381,\n",
       "  0.7952381,\n",
       "  0.8,\n",
       "  0.78571427,\n",
       "  0.8095238]}"
      ]
     },
     "execution_count": 18,
     "metadata": {},
     "output_type": "execute_result"
    }
   ],
   "source": [
    "train_history.history"
   ]
  },
  {
   "cell_type": "code",
   "execution_count": 19,
   "metadata": {},
   "outputs": [
    {
     "data": {
      "text/plain": [
       "dict_keys(['loss', 'acc', 'val_loss', 'val_acc'])"
      ]
     },
     "execution_count": 19,
     "metadata": {},
     "output_type": "execute_result"
    }
   ],
   "source": [
    "train_history.history.keys()"
   ]
  },
  {
   "cell_type": "markdown",
   "metadata": {},
   "source": [
    "# 训练过程可视化"
   ]
  },
  {
   "cell_type": "code",
   "execution_count": 20,
   "metadata": {},
   "outputs": [],
   "source": [
    "import matplotlib.pyplot as plt\n",
    "def visu_train_history(train_history,train_metric,validation_metric):\n",
    "    plt.plot(train_history.history[train_metric])\n",
    "    plt.plot(train_history.history[validation_metric])\n",
    "    plt.title('train history')\n",
    "    plt.ylabel(train_metric)\n",
    "    plt.xlabel('epoch')\n",
    "    plt.legend(['train','validation'],loc='upper left')\n",
    "    plt.show()"
   ]
  },
  {
   "cell_type": "code",
   "execution_count": 21,
   "metadata": {},
   "outputs": [
    {
     "data": {
      "image/png": "[encoded data removed]",
      "text/plain": [
       "<Figure size 432x288 with 1 Axes>"
      ]
     },
     "metadata": {
      "needs_background": "light"
     },
     "output_type": "display_data"
    }
   ],
   "source": [
    "visu_train_history(train_history,'acc','val_acc')"
   ]
  },
  {
   "cell_type": "code",
   "execution_count": 22,
   "metadata": {},
   "outputs": [
    {
     "data": {
      "image/png": "[encoded data removed]",
      "text/plain": [
       "<Figure size 432x288 with 1 Axes>"
      ]
     },
     "metadata": {
      "needs_background": "light"
     },
     "output_type": "display_data"
    }
   ],
   "source": [
    "visu_train_history(train_history,'loss','val_loss')"
   ]
  },
  {
   "cell_type": "markdown",
   "metadata": {},
   "source": [
    "# 模型评估"
   ]
  },
  {
   "cell_type": "code",
   "execution_count": 23,
   "metadata": {},
   "outputs": [
    {
     "name": "stdout",
     "output_type": "stream",
     "text": [
      "262/262 [==============================] - 0s 137us/sample - loss: 0.5144 - acc: 0.7786\n"
     ]
    }
   ],
   "source": [
    "evaluate_result=model.evaluate(x=x_test,y=y_test)"
   ]
  },
  {
   "cell_type": "code",
   "execution_count": 24,
   "metadata": {},
   "outputs": [
    {
     "data": {
      "text/plain": [
       "[0.5144248318126183, 0.77862597]"
      ]
     },
     "execution_count": 24,
     "metadata": {},
     "output_type": "execute_result"
    }
   ],
   "source": [
    "evaluate_result"
   ]
  },
  {
   "cell_type": "code",
   "execution_count": 25,
   "metadata": {},
   "outputs": [
    {
     "data": {
      "text/plain": [
       "['loss', 'acc']"
      ]
     },
     "execution_count": 25,
     "metadata": {},
     "output_type": "execute_result"
    }
   ],
   "source": [
    "model.metrics_names"
   ]
  },
  {
   "cell_type": "markdown",
   "metadata": {},
   "source": [
    "# 模型应用预测Rose和Jack的生存概率\n"
   ]
  },
  {
   "cell_type": "code",
   "execution_count": 26,
   "metadata": {},
   "outputs": [
    {
     "data": {
      "text/plain": [
       "['survived',\n",
       " 'name',\n",
       " 'pclass',\n",
       " 'sex',\n",
       " 'age',\n",
       " 'sibsp',\n",
       " 'parch',\n",
       " 'fare',\n",
       " 'embarked']"
      ]
     },
     "execution_count": 26,
     "metadata": {},
     "output_type": "execute_result"
    }
   ],
   "source": [
    "#添加旅客信息\n",
    "selected_cols"
   ]
  },
  {
   "cell_type": "code",
   "execution_count": 27,
   "metadata": {},
   "outputs": [],
   "source": [
    "# Jack和Rose的旅客信息\n",
    "Jack_info=[0,'Jack',3,'male',23,1,0,5.0000,'S']\n",
    "Rose_info=[1,'Rose',1,'female',20,1,0,100.0000,'S']"
   ]
  },
  {
   "cell_type": "code",
   "execution_count": 28,
   "metadata": {},
   "outputs": [],
   "source": [
    "#创建新的旅客DataFrame\n",
    "new_passenger_pd=pd.DataFrame([Jack_info,Rose_info],columns=selected_cols)"
   ]
  },
  {
   "cell_type": "code",
   "execution_count": 29,
   "metadata": {},
   "outputs": [],
   "source": [
    "# 在老的DataFrame中加入新的旅客信息\n",
    "all_passenger_pd=selected_df_data.append(new_passenger_pd)"
   ]
  },
  {
   "cell_type": "code",
   "execution_count": 30,
   "metadata": {},
   "outputs": [
    {
     "data": {
      "text/plain": [
       "(1311, 9)"
      ]
     },
     "execution_count": 30,
     "metadata": {},
     "output_type": "execute_result"
    }
   ],
   "source": [
    "all_passenger_pd.shape"
   ]
  },
  {
   "cell_type": "code",
   "execution_count": 31,
   "metadata": {},
   "outputs": [
    {
     "data": {
      "text/html": [
       "<div>\n",
       "<style scoped>\n",
       "    .dataframe tbody tr th:only-of-type {\n",
       "        vertical-align: middle;\n",
       "    }\n",
       "\n",
       "    .dataframe tbody tr th {\n",
       "        vertical-align: top;\n",
       "    }\n",
       "\n",
       "    .dataframe thead th {\n",
       "        text-align: right;\n",
       "    }\n",
       "</style>\n",
       "<table border=\"1\" class=\"dataframe\">\n",
       "  <thead>\n",
       "    <tr style=\"text-align: right;\">\n",
       "      <th></th>\n",
       "      <th>survived</th>\n",
       "      <th>name</th>\n",
       "      <th>pclass</th>\n",
       "      <th>sex</th>\n",
       "      <th>age</th>\n",
       "      <th>sibsp</th>\n",
       "      <th>parch</th>\n",
       "      <th>fare</th>\n",
       "      <th>embarked</th>\n",
       "    </tr>\n",
       "  </thead>\n",
       "  <tbody>\n",
       "    <tr>\n",
       "      <th>1308</th>\n",
       "      <td>0</td>\n",
       "      <td>Zimmerman, Mr. Leo</td>\n",
       "      <td>3</td>\n",
       "      <td>male</td>\n",
       "      <td>29.0</td>\n",
       "      <td>0</td>\n",
       "      <td>0</td>\n",
       "      <td>7.875</td>\n",
       "      <td>S</td>\n",
       "    </tr>\n",
       "    <tr>\n",
       "      <th>0</th>\n",
       "      <td>0</td>\n",
       "      <td>Jack</td>\n",
       "      <td>3</td>\n",
       "      <td>male</td>\n",
       "      <td>23.0</td>\n",
       "      <td>1</td>\n",
       "      <td>0</td>\n",
       "      <td>5.000</td>\n",
       "      <td>S</td>\n",
       "    </tr>\n",
       "    <tr>\n",
       "      <th>1</th>\n",
       "      <td>1</td>\n",
       "      <td>Rose</td>\n",
       "      <td>1</td>\n",
       "      <td>female</td>\n",
       "      <td>20.0</td>\n",
       "      <td>1</td>\n",
       "      <td>0</td>\n",
       "      <td>100.000</td>\n",
       "      <td>S</td>\n",
       "    </tr>\n",
       "  </tbody>\n",
       "</table>\n",
       "</div>"
      ],
      "text/plain": [
       "      survived                name  pclass     sex   age  sibsp  parch  \\\n",
       "1308         0  Zimmerman, Mr. Leo       3    male  29.0      0      0   \n",
       "0            0                Jack       3    male  23.0      1      0   \n",
       "1            1                Rose       1  female  20.0      1      0   \n",
       "\n",
       "         fare embarked  \n",
       "1308    7.875        S  \n",
       "0       5.000        S  \n",
       "1     100.000        S  "
      ]
     },
     "execution_count": 31,
     "metadata": {},
     "output_type": "execute_result"
    }
   ],
   "source": [
    "all_passenger_pd[-3:]"
   ]
  },
  {
   "cell_type": "code",
   "execution_count": 32,
   "metadata": {},
   "outputs": [],
   "source": [
    "# 数据准备\n",
    "x_features,y_label=prepare_data(all_passenger_pd)"
   ]
  },
  {
   "cell_type": "code",
   "execution_count": 33,
   "metadata": {},
   "outputs": [
    {
     "data": {
      "text/plain": [
       "(1311, 9)"
      ]
     },
     "execution_count": 33,
     "metadata": {},
     "output_type": "execute_result"
    }
   ],
   "source": [
    "x_features.shape\n",
    "all_passenger_pd.shape"
   ]
  },
  {
   "cell_type": "code",
   "execution_count": 34,
   "metadata": {},
   "outputs": [],
   "source": [
    "# 利用模型计算生存率\n",
    "surv_probability=model.predict(x_features)"
   ]
  },
  {
   "cell_type": "code",
   "execution_count": 35,
   "metadata": {},
   "outputs": [
    {
     "data": {
      "text/plain": [
       "array([[0.9937129 ],\n",
       "       [0.98748326],\n",
       "       [0.5888449 ],\n",
       "       [0.23293498],\n",
       "       [0.8706553 ]], dtype=float32)"
      ]
     },
     "execution_count": 35,
     "metadata": {},
     "output_type": "execute_result"
    }
   ],
   "source": [
    "surv_probability[:5]"
   ]
  },
  {
   "cell_type": "code",
   "execution_count": 36,
   "metadata": {},
   "outputs": [],
   "source": [
    "# 在数据最后一列插入生存概率\n",
    "all_passenger_pd.insert(loc=len(all_passenger_pd.columns),column='surv_probability',value=surv_probability)"
   ]
  },
  {
   "cell_type": "code",
   "execution_count": 37,
   "metadata": {},
   "outputs": [
    {
     "data": {
      "text/html": [
       "<div>\n",
       "<style scoped>\n",
       "    .dataframe tbody tr th:only-of-type {\n",
       "        vertical-align: middle;\n",
       "    }\n",
       "\n",
       "    .dataframe tbody tr th {\n",
       "        vertical-align: top;\n",
       "    }\n",
       "\n",
       "    .dataframe thead th {\n",
       "        text-align: right;\n",
       "    }\n",
       "</style>\n",
       "<table border=\"1\" class=\"dataframe\">\n",
       "  <thead>\n",
       "    <tr style=\"text-align: right;\">\n",
       "      <th></th>\n",
       "      <th>survived</th>\n",
       "      <th>name</th>\n",
       "      <th>pclass</th>\n",
       "      <th>sex</th>\n",
       "      <th>age</th>\n",
       "      <th>sibsp</th>\n",
       "      <th>parch</th>\n",
       "      <th>fare</th>\n",
       "      <th>embarked</th>\n",
       "      <th>surv_probability</th>\n",
       "    </tr>\n",
       "  </thead>\n",
       "  <tbody>\n",
       "    <tr>\n",
       "      <th>1306</th>\n",
       "      <td>0</td>\n",
       "      <td>Zakarian, Mr. Mapriededer</td>\n",
       "      <td>3</td>\n",
       "      <td>male</td>\n",
       "      <td>26.5</td>\n",
       "      <td>0</td>\n",
       "      <td>0</td>\n",
       "      <td>7.225</td>\n",
       "      <td>C</td>\n",
       "      <td>0.199737</td>\n",
       "    </tr>\n",
       "    <tr>\n",
       "      <th>1307</th>\n",
       "      <td>0</td>\n",
       "      <td>Zakarian, Mr. Ortin</td>\n",
       "      <td>3</td>\n",
       "      <td>male</td>\n",
       "      <td>27.0</td>\n",
       "      <td>0</td>\n",
       "      <td>0</td>\n",
       "      <td>7.225</td>\n",
       "      <td>C</td>\n",
       "      <td>0.198812</td>\n",
       "    </tr>\n",
       "    <tr>\n",
       "      <th>1308</th>\n",
       "      <td>0</td>\n",
       "      <td>Zimmerman, Mr. Leo</td>\n",
       "      <td>3</td>\n",
       "      <td>male</td>\n",
       "      <td>29.0</td>\n",
       "      <td>0</td>\n",
       "      <td>0</td>\n",
       "      <td>7.875</td>\n",
       "      <td>S</td>\n",
       "      <td>0.120949</td>\n",
       "    </tr>\n",
       "    <tr>\n",
       "      <th>0</th>\n",
       "      <td>0</td>\n",
       "      <td>Jack</td>\n",
       "      <td>3</td>\n",
       "      <td>male</td>\n",
       "      <td>23.0</td>\n",
       "      <td>1</td>\n",
       "      <td>0</td>\n",
       "      <td>5.000</td>\n",
       "      <td>S</td>\n",
       "      <td>0.123105</td>\n",
       "    </tr>\n",
       "    <tr>\n",
       "      <th>1</th>\n",
       "      <td>1</td>\n",
       "      <td>Rose</td>\n",
       "      <td>1</td>\n",
       "      <td>female</td>\n",
       "      <td>20.0</td>\n",
       "      <td>1</td>\n",
       "      <td>0</td>\n",
       "      <td>100.000</td>\n",
       "      <td>S</td>\n",
       "      <td>0.996668</td>\n",
       "    </tr>\n",
       "  </tbody>\n",
       "</table>\n",
       "</div>"
      ],
      "text/plain": [
       "      survived                       name  pclass     sex   age  sibsp  parch  \\\n",
       "1306         0  Zakarian, Mr. Mapriededer       3    male  26.5      0      0   \n",
       "1307         0        Zakarian, Mr. Ortin       3    male  27.0      0      0   \n",
       "1308         0         Zimmerman, Mr. Leo       3    male  29.0      0      0   \n",
       "0            0                       Jack       3    male  23.0      1      0   \n",
       "1            1                       Rose       1  female  20.0      1      0   \n",
       "\n",
       "         fare embarked  surv_probability  \n",
       "1306    7.225        C          0.199737  \n",
       "1307    7.225        C          0.198812  \n",
       "1308    7.875        S          0.120949  \n",
       "0       5.000        S          0.123105  \n",
       "1     100.000        S          0.996668  "
      ]
     },
     "execution_count": 37,
     "metadata": {},
     "output_type": "execute_result"
    }
   ],
   "source": [
    "all_passenger_pd[-5:]"
   ]
  },
  {
   "cell_type": "code",
   "execution_count": 38,
   "metadata": {},
   "outputs": [
    {
     "data": {
      "text/plain": [
       "(1311, 1)"
      ]
     },
     "execution_count": 38,
     "metadata": {},
     "output_type": "execute_result"
    }
   ],
   "source": [
    "surv_probability.shape\n"
   ]
  },
  {
   "cell_type": "code",
   "execution_count": 39,
   "metadata": {},
   "outputs": [
    {
     "data": {
      "text/plain": [
       "(1311, 10)"
      ]
     },
     "execution_count": 39,
     "metadata": {},
     "output_type": "execute_result"
    }
   ],
   "source": [
    "all_passenger_pd.shape"
   ]
  },
  {
   "cell_type": "code",
   "execution_count": 40,
   "metadata": {},
   "outputs": [
    {
     "data": {
      "text/plain": [
       "(1311, 7)"
      ]
     },
     "execution_count": 40,
     "metadata": {},
     "output_type": "execute_result"
    }
   ],
   "source": [
    "x_features.shape"
   ]
  },
  {
   "cell_type": "code",
   "execution_count": null,
   "metadata": {},
   "outputs": [],
   "source": []
  }
 ],
 "metadata": {
  "kernelspec": {
   "display_name": "Python 3.6.3 64-bit ('TensorFlow': conda)",
   "language": "python",
   "name": "python36364bittensorflowconda6ab1db8ce32440309d56a8d3027fa22b"
  },
  "language_info": {
   "codemirror_mode": {
    "name": "ipython",
    "version": 3
   },
   "file_extension": ".py",
   "mimetype": "text/x-python",
   "name": "python",
   "nbconvert_exporter": "python",
   "pygments_lexer": "ipython3",
   "version": "3.6.3"
  }
 },
 "nbformat": 4,
 "nbformat_minor": 2
}
