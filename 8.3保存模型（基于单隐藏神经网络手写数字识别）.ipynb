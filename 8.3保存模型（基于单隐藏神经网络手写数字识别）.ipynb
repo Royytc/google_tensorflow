{
 "cells": [
  {
   "cell_type": "markdown",
   "metadata": {},
   "source": [
    "# 载入数据"
   ]
  },
  {
   "cell_type": "code",
   "execution_count": 1,
   "metadata": {},
   "outputs": [
    {
     "name": "stdout",
     "output_type": "stream",
     "text": [
      "WARNING:tensorflow:From <ipython-input-1-729e74f623d0>:3: read_data_sets (from tensorflow.contrib.learn.python.learn.datasets.mnist) is deprecated and will be removed in a future version.\n",
      "Instructions for updating:\n",
      "Please use alternatives such as official/mnist/dataset.py from tensorflow/models.\n",
      "WARNING:tensorflow:From E:\\anaconda\\anaconda\\envs\\TensorFlow\\lib\\site-packages\\tensorflow\\contrib\\learn\\python\\learn\\datasets\\mnist.py:260: maybe_download (from tensorflow.contrib.learn.python.learn.datasets.base) is deprecated and will be removed in a future version.\n",
      "Instructions for updating:\n",
      "Please write your own downloading logic.\n",
      "WARNING:tensorflow:From E:\\anaconda\\anaconda\\envs\\TensorFlow\\lib\\site-packages\\tensorflow\\contrib\\learn\\python\\learn\\datasets\\mnist.py:262: extract_images (from tensorflow.contrib.learn.python.learn.datasets.mnist) is deprecated and will be removed in a future version.\n",
      "Instructions for updating:\n",
      "Please use tf.data to implement this functionality.\n",
      "Extracting MNIST_data/train-images-idx3-ubyte.gz\n",
      "WARNING:tensorflow:From E:\\anaconda\\anaconda\\envs\\TensorFlow\\lib\\site-packages\\tensorflow\\contrib\\learn\\python\\learn\\datasets\\mnist.py:267: extract_labels (from tensorflow.contrib.learn.python.learn.datasets.mnist) is deprecated and will be removed in a future version.\n",
      "Instructions for updating:\n",
      "Please use tf.data to implement this functionality.\n",
      "Extracting MNIST_data/train-labels-idx1-ubyte.gz\n",
      "WARNING:tensorflow:From E:\\anaconda\\anaconda\\envs\\TensorFlow\\lib\\site-packages\\tensorflow\\contrib\\learn\\python\\learn\\datasets\\mnist.py:110: dense_to_one_hot (from tensorflow.contrib.learn.python.learn.datasets.mnist) is deprecated and will be removed in a future version.\n",
      "Instructions for updating:\n",
      "Please use tf.one_hot on tensors.\n",
      "Extracting MNIST_data/t10k-images-idx3-ubyte.gz\n",
      "Extracting MNIST_data/t10k-labels-idx1-ubyte.gz\n",
      "WARNING:tensorflow:From E:\\anaconda\\anaconda\\envs\\TensorFlow\\lib\\site-packages\\tensorflow\\contrib\\learn\\python\\learn\\datasets\\mnist.py:290: DataSet.__init__ (from tensorflow.contrib.learn.python.learn.datasets.mnist) is deprecated and will be removed in a future version.\n",
      "Instructions for updating:\n",
      "Please use alternatives such as official/mnist/dataset.py from tensorflow/models.\n"
     ]
    }
   ],
   "source": [
    "import tensorflow as tf\n",
    "import tensorflow.examples.tutorials.mnist.input_data as input_data\n",
    "mnist=input_data.read_data_sets(\"MNIST_data/\",one_hot=True)"
   ]
  },
  {
   "cell_type": "markdown",
   "metadata": {},
   "source": [
    "# 建立模型"
   ]
  },
  {
   "cell_type": "code",
   "execution_count": 2,
   "metadata": {},
   "outputs": [],
   "source": [
    "# 定义占位符\n",
    "x=tf.placeholder(tf.float32,[None,784],name=\"X\")\n",
    "y=tf.placeholder(tf.float32,[None,10],name=\"Y\")"
   ]
  },
  {
   "cell_type": "markdown",
   "metadata": {},
   "source": [
    "# 构建隐藏层"
   ]
  },
  {
   "cell_type": "code",
   "execution_count": 3,
   "metadata": {},
   "outputs": [],
   "source": [
    "# 隐藏层神经元数量\n",
    "H1_NN=256 \n",
    "\n",
    "W1=tf.Variable(tf.random_normal([784,H1_NN]))\n",
    "b1=tf.Variable(tf.zeros([H1_NN]))\n",
    "\n",
    "Y1=tf.nn.relu(tf.matmul(x,W1)+b1)"
   ]
  },
  {
   "cell_type": "code",
   "execution_count": 4,
   "metadata": {},
   "outputs": [],
   "source": [
    "# 构建输出层\n",
    "W2=tf.Variable(tf.random_normal([H1_NN,10]))\n",
    "b2=tf.Variable(tf.zeros([10]))\n",
    "forward=tf.matmul(Y1,W2)+b2\n",
    "pred=tf.nn.softmax(forward)"
   ]
  },
  {
   "cell_type": "markdown",
   "metadata": {},
   "source": [
    "# 训练模型"
   ]
  },
  {
   "cell_type": "code",
   "execution_count": 5,
   "metadata": {},
   "outputs": [],
   "source": [
    "# 交叉熵\n",
    "#loss_function=tf.reduce_mean(-tf.reduce_sum(y*tf.log(pred),reduction_indices=1))"
   ]
  },
  {
   "cell_type": "code",
   "execution_count": 6,
   "metadata": {},
   "outputs": [
    {
     "name": "stdout",
     "output_type": "stream",
     "text": [
      "WARNING:tensorflow:From <ipython-input-6-7cf25b615857>:1: softmax_cross_entropy_with_logits (from tensorflow.python.ops.nn_ops) is deprecated and will be removed in a future version.\n",
      "Instructions for updating:\n",
      "\n",
      "Future major versions of TensorFlow will allow gradients to flow\n",
      "into the labels input on backprop by default.\n",
      "\n",
      "See `tf.nn.softmax_cross_entropy_with_logits_v2`.\n",
      "\n"
     ]
    }
   ],
   "source": [
    "\n",
    "loss_function=tf.reduce_mean(tf.nn.softmax_cross_entropy_with_logits(logits=forward,labels=y))"
   ]
  },
  {
   "cell_type": "markdown",
   "metadata": {},
   "source": [
    "# 设置训练参数"
   ]
  },
  {
   "cell_type": "code",
   "execution_count": 7,
   "metadata": {},
   "outputs": [],
   "source": [
    "train_epochs=40\n",
    "batch_size=50\n",
    "total_batch=int(mnist.train.num_examples/batch_size)\n",
    "display_step=1\n",
    "learning_rate=0.01\n",
    "# 在训练参数加入存储模型\n",
    "save_step=5\n",
    "# 创建保存模型文件目录\n",
    "import os\n",
    "ckpt_dir=\"./ckpt_dir/\"\n",
    "if not os.path.exists(ckpt_dir):\n",
    "    os.makedirs(ckpt_dir)"
   ]
  },
  {
   "cell_type": "markdown",
   "metadata": {},
   "source": [
    "# 选择优化器"
   ]
  },
  {
   "cell_type": "code",
   "execution_count": 8,
   "metadata": {},
   "outputs": [],
   "source": [
    "optimizer=tf.train.AdamOptimizer(learning_rate).minimize(loss_function)"
   ]
  },
  {
   "cell_type": "markdown",
   "metadata": {},
   "source": [
    "# 定义准确率"
   ]
  },
  {
   "cell_type": "code",
   "execution_count": 9,
   "metadata": {},
   "outputs": [],
   "source": [
    "correct_prediction=tf.equal(tf.argmax(y,1),tf.argmax(pred,1))\n",
    "accuracy=tf.reduce_mean(tf.cast(correct_prediction,tf.float32))"
   ]
  },
  {
   "cell_type": "markdown",
   "metadata": {},
   "source": [
    "# 训练模型"
   ]
  },
  {
   "cell_type": "code",
   "execution_count": 10,
   "metadata": {},
   "outputs": [
    {
     "name": "stdout",
     "output_type": "stream",
     "text": [
      "Train Epoch: 01 Loss= 1.246909022 Accuracy= 0.9366\n",
      "Train Epoch: 02 Loss= 0.780305803 Accuracy= 0.9466\n",
      "Train Epoch: 03 Loss= 0.567820430 Accuracy= 0.9554\n",
      "Train Epoch: 04 Loss= 0.515085340 Accuracy= 0.9548\n",
      "Train Epoch: 05 Loss= 0.413157821 Accuracy= 0.9622\n",
      "mnist_h256_model_000005.ckpt saved\n",
      "Train Epoch: 06 Loss= 0.416739643 Accuracy= 0.9576\n",
      "Train Epoch: 07 Loss= 0.346151620 Accuracy= 0.9592\n",
      "Train Epoch: 08 Loss= 0.331895620 Accuracy= 0.9612\n",
      "Train Epoch: 09 Loss= 0.437135696 Accuracy= 0.9604\n",
      "Train Epoch: 10 Loss= 0.369705021 Accuracy= 0.9636\n",
      "mnist_h256_model_000010.ckpt saved\n",
      "Train Epoch: 11 Loss= 0.417002589 Accuracy= 0.9614\n",
      "Train Epoch: 12 Loss= 0.415084869 Accuracy= 0.9600\n",
      "Train Epoch: 13 Loss= 0.451722890 Accuracy= 0.9654\n",
      "Train Epoch: 14 Loss= 0.368398815 Accuracy= 0.9652\n",
      "Train Epoch: 15 Loss= 0.395681202 Accuracy= 0.9626\n",
      "mnist_h256_model_000015.ckpt saved\n",
      "Train Epoch: 16 Loss= 0.347805172 Accuracy= 0.9696\n",
      "Train Epoch: 17 Loss= 0.453910440 Accuracy= 0.9656\n",
      "Train Epoch: 18 Loss= 0.484800875 Accuracy= 0.9678\n",
      "Train Epoch: 19 Loss= 0.518050075 Accuracy= 0.9720\n",
      "Train Epoch: 20 Loss= 0.412424415 Accuracy= 0.9706\n",
      "mnist_h256_model_000020.ckpt saved\n",
      "Train Epoch: 21 Loss= 0.616975486 Accuracy= 0.9692\n",
      "Train Epoch: 22 Loss= 0.617219746 Accuracy= 0.9710\n",
      "Train Epoch: 23 Loss= 0.656555772 Accuracy= 0.9696\n",
      "Train Epoch: 24 Loss= 0.653786957 Accuracy= 0.9700\n",
      "Train Epoch: 25 Loss= 0.720626831 Accuracy= 0.9706\n",
      "mnist_h256_model_000025.ckpt saved\n",
      "Train Epoch: 26 Loss= 0.608471513 Accuracy= 0.9708\n",
      "Train Epoch: 27 Loss= 0.787472844 Accuracy= 0.9630\n",
      "Train Epoch: 28 Loss= 0.804022551 Accuracy= 0.9718\n",
      "Train Epoch: 29 Loss= 0.712238371 Accuracy= 0.9698\n",
      "Train Epoch: 30 Loss= 0.687786996 Accuracy= 0.9732\n",
      "WARNING:tensorflow:From E:\\anaconda\\anaconda\\envs\\TensorFlow\\lib\\site-packages\\tensorflow\\python\\training\\saver.py:960: remove_checkpoint (from tensorflow.python.training.checkpoint_management) is deprecated and will be removed in a future version.\n",
      "Instructions for updating:\n",
      "Use standard file APIs to delete files with this prefix.\n",
      "mnist_h256_model_000030.ckpt saved\n",
      "Train Epoch: 31 Loss= 0.817332089 Accuracy= 0.9714\n",
      "Train Epoch: 32 Loss= 0.723054707 Accuracy= 0.9712\n",
      "Train Epoch: 33 Loss= 0.674117744 Accuracy= 0.9752\n",
      "Train Epoch: 34 Loss= 0.897115648 Accuracy= 0.9750\n",
      "Train Epoch: 35 Loss= 0.797187209 Accuracy= 0.9726\n",
      "mnist_h256_model_000035.ckpt saved\n",
      "Train Epoch: 36 Loss= 0.834008217 Accuracy= 0.9756\n",
      "Train Epoch: 37 Loss= 0.856473446 Accuracy= 0.9752\n",
      "Train Epoch: 38 Loss= 0.953396678 Accuracy= 0.9738\n",
      "Train Epoch: 39 Loss= 0.880474627 Accuracy= 0.9754\n",
      "Train Epoch: 40 Loss= 0.890696883 Accuracy= 0.9724\n",
      "mnist_h256_model_000040.ckpt saved\n",
      "Model saved\n",
      "Train Finished takes: 621.33\n"
     ]
    }
   ],
   "source": [
    "#声明完所有变量，调用tf.train.Saver\n",
    "saver=tf.train.Saver()\n",
    "\n",
    "\n",
    "# 记录训练开始时间\n",
    "from time import time\n",
    "startTime=time()\n",
    "sess=tf.Session()\n",
    "sess.run(tf.global_variables_initializer())\n",
    "for epoch in range(train_epochs):\n",
    "    for batch in range(total_batch):\n",
    "        xs,ys=mnist.train.next_batch(batch_size)# 读取批次数据\n",
    "        sess.run(optimizer,feed_dict={x:xs,y:ys})#执行批次训练\n",
    "        # total_batch个批次训练完成后，使用验证数据计算误差和准确率\n",
    "        loss,acc=sess.run([loss_function,accuracy],feed_dict={x:mnist.validation.images,y:mnist.validation.labels})\n",
    "    if (epoch+1)%display_step==0:\n",
    "        print(\"Train Epoch:\",'%02d'%(epoch+1),\n",
    "                 \"Loss=\",\"{:.9f}\".format(loss),\"Accuracy=\",\"{:.4f}\".format(acc))\n",
    "    if (epoch+1)%save_step==0:\n",
    "        saver.save(sess,os.path.join(ckpt_dir,\n",
    "                                    'mnist_h256_model_{:06d}.ckpt'.format(epoch+1)))\n",
    "        print('mnist_h256_model_{:06d}.ckpt saved'.format(epoch+1))\n",
    "saver.save(sess,os.path.join(ckpt_dir,'mnist_h256_model.ckpt'))\n",
    "print(\"Model saved\")\n",
    "duration=time()-startTime\n",
    "print(\"Train Finished takes:\",\"{:.2f}\".format(duration))"
   ]
  },
  {
   "cell_type": "code",
   "execution_count": null,
   "metadata": {},
   "outputs": [],
   "source": []
  }
 ],
 "metadata": {
  "kernelspec": {
   "display_name": "Python 3.6.3 64-bit ('TensorFlow': conda)",
   "language": "python",
   "name": "python36364bittensorflowconda38b79ddab0724ed4aff533accc5e8161"
  },
  "language_info": {
   "codemirror_mode": {
    "name": "ipython",
    "version": 3
   },
   "file_extension": ".py",
   "mimetype": "text/x-python",
   "name": "python",
   "nbconvert_exporter": "python",
   "pygments_lexer": "ipython3",
   "version": "3.6.3"
  }
 },
 "nbformat": 4,
 "nbformat_minor": 2
}
