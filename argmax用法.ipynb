{
 "cells": [
  {
   "cell_type": "markdown",
   "metadata": {},
   "source": [
    "# argmax()用法\n"
   ]
  },
  {
   "cell_type": "code",
   "execution_count": 1,
   "metadata": {},
   "outputs": [
    {
     "name": "stdout",
     "output_type": "stream",
     "text": [
      "arr1= [1 3 2 5 7 0]\n",
      "arr2= [[1 2 3]\n",
      " [3 2 1]\n",
      " [4 7 2]\n",
      " [8 3 2]]\n"
     ]
    }
   ],
   "source": [
    "import tensorflow as tf\n",
    "import numpy as np\n",
    "arr1=np.array([1,3,2,5,7,0])\n",
    "arr2=np.array([[1,2,3],[3,2,1],[4,7,2],[8,3,2]])\n",
    "print('arr1=',arr1)\n",
    "print('arr2=',arr2)"
   ]
  },
  {
   "cell_type": "code",
   "execution_count": 5,
   "metadata": {},
   "outputs": [
    {
     "name": "stdout",
     "output_type": "stream",
     "text": [
      "4\n",
      "[3 2 0]\n",
      "[2 0 1 0]\n",
      "[2 0 1 0]\n"
     ]
    }
   ],
   "source": [
    "argmax_1=tf.argmax(arr1)\n",
    "#指定第二个参数0，按第一维元素(行)取值，即同列的每一行\n",
    "argmax_20=tf.argmax(arr2,0) \n",
    "#指定第二个参数为1，则按第二维（列）的元素取值，同行的每一列\n",
    "argmax_21=tf.argmax(arr2,1)\n",
    "#指定第二个参数为-1，则最后维的元素取值\n",
    "argmax_22=tf.argmax(arr2,-1)\n",
    "with tf.Session() as sess:\n",
    "    print(argmax_1.eval())\n",
    "    print(argmax_20.eval())\n",
    "    print(argmax_21.eval())\n",
    "    print(argmax_22.eval())"
   ]
  },
  {
   "cell_type": "code",
   "execution_count": null,
   "metadata": {},
   "outputs": [],
   "source": []
  }
 ],
 "metadata": {
  "kernelspec": {
   "display_name": "Python 3.6.3 64-bit ('TensorFlow': conda)",
   "language": "python",
   "name": "python36364bittensorflowconda38b79ddab0724ed4aff533accc5e8161"
  },
  "language_info": {
   "codemirror_mode": {
    "name": "ipython",
    "version": 3
   },
   "file_extension": ".py",
   "mimetype": "text/x-python",
   "name": "python",
   "nbconvert_exporter": "python",
   "pygments_lexer": "ipython3",
   "version": "3.6.3"
  }
 },
 "nbformat": 4,
 "nbformat_minor": 2
}
