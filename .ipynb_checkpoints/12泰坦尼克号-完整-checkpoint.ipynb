{
 "cells": [
  {
   "cell_type": "markdown",
   "metadata": {},
   "source": [
    "# 下载数据包\n"
   ]
  },
  {
   "cell_type": "code",
   "execution_count": 1,
   "metadata": {},
   "outputs": [
    {
     "name": "stdout",
     "output_type": "stream",
     "text": [
      "data/titanic3.xls data file already exists.\n"
     ]
    }
   ],
   "source": [
    "import  urllib.request\n",
    "import os\n",
    "data_url='http://biostat.mc.vanderbilt.edu/wiki/pub/Main/DataSets/titanic3.xls'\n",
    "data_file_path='data/titanic3.xls'\n",
    "if not os.path.isfile(data_file_path):\n",
    "    result=urllib.request.urlretrieve(data_url,data_file_path)\n",
    "    print('downloaded:',result)\n",
    "else:\n",
    "    print(data_file_path,'data file already exists.')"
   ]
  },
  {
   "cell_type": "code",
   "execution_count": 2,
   "metadata": {},
   "outputs": [],
   "source": [
    "import numpy\n",
    "import pandas as pd\n",
    "#读取数据，结果为DataFrame格式\n",
    "df_data=pd.read_excel(data_file_path)"
   ]
  },
  {
   "cell_type": "markdown",
   "metadata": {},
   "source": [
    "# 筛选提取需要特征字段\n",
    "survival 是否存在字段\n",
    "筛选去需要特征字段，去掉ticket，cabin"
   ]
  },
  {
   "cell_type": "code",
   "execution_count": 3,
   "metadata": {},
   "outputs": [],
   "source": [
    "# 筛选特征字段\n",
    "selected_cols=['survived','name','pclass','sex','age','sibsp','parch','fare','embarked']\n",
    "selected_df_data=df_data[selected_cols]"
   ]
  },
  {
   "cell_type": "markdown",
   "metadata": {},
   "source": [
    "# 定义数据预处理"
   ]
  },
  {
   "cell_type": "code",
   "execution_count": 4,
   "metadata": {},
   "outputs": [],
   "source": [
    "from sklearn import preprocessing\n",
    "def prepare_data(df_data):\n",
    "    df=df_data.drop(['name'],axis=1)\n",
    "    age_mean=df['age'].mean()\n",
    "    df['age']=df['age'].fillna(age_mean)\n",
    "    fare_mean=df['fare'].mean()\n",
    "    df['fare']=df['fare'].fillna(fare_mean)\n",
    "    df['sex']=df['sex'].map({'female':0,'male':1}).astype(int)\n",
    "    df['embarked']=df['embarked'].fillna('S')\n",
    "    df['embarked']=df['embarked'].map({'C':0,'Q':1,'S':2}).astype(int)\n",
    "    ndarray_data=df.values# 转换为ndarray数组\n",
    "    features=ndarray_data[:,1:]\n",
    "    label=ndarray_data[:,0]\n",
    "    #特征值标准化\n",
    "    minmax_scale=preprocessing.MinMaxScaler(feature_range=(0,1))\n",
    "    norm_features=minmax_scale.fit_transform(features)\n",
    "    return norm_features,label"
   ]
  },
  {
   "cell_type": "markdown",
   "metadata": {},
   "source": [
    "# shuffle 打乱数据顺序，为后面训练做准备"
   ]
  },
  {
   "cell_type": "code",
   "execution_count": 5,
   "metadata": {},
   "outputs": [],
   "source": [
    "# shuffle打乱数据顺序，通过pandas的抽样函数sample实现，frac为百分比\n",
    "# selected_df_data数据保持不变\n",
    "shuffled_df_data=selected_df_data.sample(frac=1)"
   ]
  },
  {
   "cell_type": "markdown",
   "metadata": {},
   "source": [
    "# 得到处理后的数据集"
   ]
  },
  {
   "cell_type": "code",
   "execution_count": 6,
   "metadata": {},
   "outputs": [],
   "source": [
    "x_data,y_data=prepare_data(shuffled_df_data)"
   ]
  },
  {
   "cell_type": "markdown",
   "metadata": {},
   "source": [
    "# 划分训练集和测试集"
   ]
  },
  {
   "cell_type": "code",
   "execution_count": 7,
   "metadata": {},
   "outputs": [],
   "source": [
    "train_size=int(len(x_data)*0.8)\n",
    "x_train=x_data[:train_size]\n",
    "y_train=y_data[:train_size]\n",
    "x_test=x_data[train_size:]\n",
    "y_test=y_data[train_size:]"
   ]
  },
  {
   "cell_type": "markdown",
   "metadata": {},
   "source": [
    "# keras建模"
   ]
  },
  {
   "cell_type": "code",
   "execution_count": 8,
   "metadata": {},
   "outputs": [],
   "source": [
    "import tensorflow as tf\n",
    "# 建立keras序列模型\n",
    "model=tf.keras.models.Sequential()"
   ]
  },
  {
   "cell_type": "code",
   "execution_count": 9,
   "metadata": {},
   "outputs": [
    {
     "name": "stdout",
     "output_type": "stream",
     "text": [
      "WARNING:tensorflow:From D:\\anaconda\\anaconda\\envs\\TensorFlow\\lib\\site-packages\\tensorflow\\python\\keras\\initializers.py:119: calling RandomUniform.__init__ (from tensorflow.python.ops.init_ops) with dtype is deprecated and will be removed in a future version.\n",
      "Instructions for updating:\n",
      "Call initializer instance with the dtype argument instead of passing it to the constructor\n"
     ]
    }
   ],
   "source": [
    "#加入第一层输入特征7列，也可以是input_shape=（7，）\n",
    "model.add(tf.keras.layers.Dense(units=64,\n",
    "                               input_dim=7,\n",
    "                               use_bias=True,\n",
    "                               kernel_initializer='uniform',\n",
    "                               bias_initializer='zeros',\n",
    "                               activation='relu'))"
   ]
  },
  {
   "cell_type": "code",
   "execution_count": 10,
   "metadata": {},
   "outputs": [],
   "source": [
    "#model.add(tf.keras.layers.Dropout(rate=0.3))"
   ]
  },
  {
   "cell_type": "code",
   "execution_count": 11,
   "metadata": {},
   "outputs": [
    {
     "name": "stdout",
     "output_type": "stream",
     "text": [
      "WARNING:tensorflow:From D:\\anaconda\\anaconda\\envs\\TensorFlow\\lib\\site-packages\\tensorflow\\python\\ops\\init_ops.py:1251: calling VarianceScaling.__init__ (from tensorflow.python.ops.init_ops) with dtype is deprecated and will be removed in a future version.\n",
      "Instructions for updating:\n",
      "Call initializer instance with the dtype argument instead of passing it to the constructor\n"
     ]
    }
   ],
   "source": [
    "model.add(tf.keras.layers.Dense(units=32,\n",
    "                               activation='sigmoid'))"
   ]
  },
  {
   "cell_type": "code",
   "execution_count": 12,
   "metadata": {},
   "outputs": [],
   "source": [
    "#model.add(tf.keras.layers.Dropout(rate=0.3))"
   ]
  },
  {
   "cell_type": "code",
   "execution_count": 13,
   "metadata": {},
   "outputs": [],
   "source": [
    "model.add(tf.keras.layers.Dense(units=1,\n",
    "                               activation='sigmoid'))"
   ]
  },
  {
   "cell_type": "code",
   "execution_count": 14,
   "metadata": {},
   "outputs": [
    {
     "name": "stdout",
     "output_type": "stream",
     "text": [
      "Model: \"sequential\"\n",
      "_________________________________________________________________\n",
      "Layer (type)                 Output Shape              Param #   \n",
      "=================================================================\n",
      "dense (Dense)                (None, 64)                512       \n",
      "_________________________________________________________________\n",
      "dense_1 (Dense)              (None, 32)                2080      \n",
      "_________________________________________________________________\n",
      "dense_2 (Dense)              (None, 1)                 33        \n",
      "=================================================================\n",
      "Total params: 2,625\n",
      "Trainable params: 2,625\n",
      "Non-trainable params: 0\n",
      "_________________________________________________________________\n"
     ]
    }
   ],
   "source": [
    "model.summary()\n"
   ]
  },
  {
   "cell_type": "markdown",
   "metadata": {},
   "source": [
    "# 训练模型"
   ]
  },
  {
   "cell_type": "code",
   "execution_count": 15,
   "metadata": {},
   "outputs": [
    {
     "name": "stdout",
     "output_type": "stream",
     "text": [
      "WARNING:tensorflow:From D:\\anaconda\\anaconda\\envs\\TensorFlow\\lib\\site-packages\\tensorflow\\python\\ops\\nn_impl.py:180: add_dispatch_support.<locals>.wrapper (from tensorflow.python.ops.array_ops) is deprecated and will be removed in a future version.\n",
      "Instructions for updating:\n",
      "Use tf.where in 2.0, which has the same broadcast rule as np.where\n"
     ]
    }
   ],
   "source": [
    "#loss是损失函数名\n",
    "# 用sigmoid作为激活函数，一般损失函数用binary_crossentropy\n",
    "# 用softmax作为激活函数，一般损失函数用categorical_crossentropy\n",
    "model.compile(optimizer=tf.keras.optimizers.Adam(0.03),\n",
    "             loss='binary_crossentropy',\n",
    "             metrics=['accuracy'])"
   ]
  },
  {
   "cell_type": "code",
   "execution_count": 16,
   "metadata": {},
   "outputs": [
    {
     "name": "stdout",
     "output_type": "stream",
     "text": [
      "Train on 837 samples, validate on 210 samples\n",
      "Epoch 1/100\n",
      "837/837 - 0s - loss: 0.5549 - acc: 0.7216 - val_loss: 0.5464 - val_acc: 0.7810\n",
      "Epoch 2/100\n",
      "837/837 - 0s - loss: 0.4612 - acc: 0.8017 - val_loss: 0.5123 - val_acc: 0.7714\n",
      "Epoch 3/100\n",
      "837/837 - 0s - loss: 0.4479 - acc: 0.8041 - val_loss: 0.5227 - val_acc: 0.7524\n",
      "Epoch 4/100\n",
      "837/837 - 0s - loss: 0.4446 - acc: 0.8088 - val_loss: 0.5078 - val_acc: 0.7762\n",
      "Epoch 5/100\n",
      "837/837 - 0s - loss: 0.4464 - acc: 0.8112 - val_loss: 0.5201 - val_acc: 0.7714\n",
      "Epoch 6/100\n",
      "837/837 - 0s - loss: 0.4417 - acc: 0.8041 - val_loss: 0.5033 - val_acc: 0.7810\n",
      "Epoch 7/100\n",
      "837/837 - 0s - loss: 0.4484 - acc: 0.8053 - val_loss: 0.5621 - val_acc: 0.7286\n",
      "Epoch 8/100\n",
      "837/837 - 0s - loss: 0.4533 - acc: 0.7921 - val_loss: 0.5192 - val_acc: 0.7619\n",
      "Epoch 9/100\n",
      "837/837 - 0s - loss: 0.4406 - acc: 0.7981 - val_loss: 0.5018 - val_acc: 0.7714\n",
      "Epoch 10/100\n",
      "837/837 - 0s - loss: 0.4526 - acc: 0.8041 - val_loss: 0.5452 - val_acc: 0.7619\n",
      "Epoch 11/100\n",
      "837/837 - 0s - loss: 0.4679 - acc: 0.7981 - val_loss: 0.5240 - val_acc: 0.7619\n",
      "Epoch 12/100\n",
      "837/837 - 0s - loss: 0.4489 - acc: 0.8005 - val_loss: 0.5093 - val_acc: 0.7619\n",
      "Epoch 13/100\n",
      "837/837 - 0s - loss: 0.4315 - acc: 0.8076 - val_loss: 0.4978 - val_acc: 0.7667\n",
      "Epoch 14/100\n",
      "837/837 - 0s - loss: 0.4338 - acc: 0.8148 - val_loss: 0.5064 - val_acc: 0.7571\n",
      "Epoch 15/100\n",
      "837/837 - 0s - loss: 0.4388 - acc: 0.8029 - val_loss: 0.5045 - val_acc: 0.7762\n",
      "Epoch 16/100\n",
      "837/837 - 0s - loss: 0.4396 - acc: 0.8005 - val_loss: 0.5156 - val_acc: 0.7619\n",
      "Epoch 17/100\n",
      "837/837 - 0s - loss: 0.4504 - acc: 0.8065 - val_loss: 0.5302 - val_acc: 0.7667\n",
      "Epoch 18/100\n",
      "837/837 - 0s - loss: 0.4333 - acc: 0.8124 - val_loss: 0.5030 - val_acc: 0.7667\n",
      "Epoch 19/100\n",
      "837/837 - 0s - loss: 0.4364 - acc: 0.8100 - val_loss: 0.4998 - val_acc: 0.7667\n",
      "Epoch 20/100\n",
      "837/837 - 0s - loss: 0.4309 - acc: 0.8005 - val_loss: 0.4988 - val_acc: 0.7667\n",
      "Epoch 21/100\n",
      "837/837 - 0s - loss: 0.4340 - acc: 0.7969 - val_loss: 0.5149 - val_acc: 0.7619\n",
      "Epoch 22/100\n",
      "837/837 - 0s - loss: 0.4360 - acc: 0.8076 - val_loss: 0.5473 - val_acc: 0.7619\n",
      "Epoch 23/100\n",
      "837/837 - 0s - loss: 0.4334 - acc: 0.7993 - val_loss: 0.4982 - val_acc: 0.7667\n",
      "Epoch 24/100\n",
      "837/837 - 0s - loss: 0.4269 - acc: 0.8088 - val_loss: 0.4894 - val_acc: 0.7714\n",
      "Epoch 25/100\n",
      "837/837 - 0s - loss: 0.4215 - acc: 0.8088 - val_loss: 0.4979 - val_acc: 0.7762\n",
      "Epoch 26/100\n",
      "837/837 - 0s - loss: 0.4231 - acc: 0.8112 - val_loss: 0.4885 - val_acc: 0.7810\n",
      "Epoch 27/100\n",
      "837/837 - 0s - loss: 0.4201 - acc: 0.8196 - val_loss: 0.4857 - val_acc: 0.7571\n",
      "Epoch 28/100\n",
      "837/837 - 0s - loss: 0.4179 - acc: 0.8136 - val_loss: 0.4800 - val_acc: 0.7667\n",
      "Epoch 29/100\n",
      "837/837 - 0s - loss: 0.4201 - acc: 0.8160 - val_loss: 0.5353 - val_acc: 0.7667\n",
      "Epoch 30/100\n",
      "837/837 - 0s - loss: 0.4252 - acc: 0.8172 - val_loss: 0.4872 - val_acc: 0.7857\n",
      "Epoch 31/100\n",
      "837/837 - 0s - loss: 0.4228 - acc: 0.8148 - val_loss: 0.4927 - val_acc: 0.7667\n",
      "Epoch 32/100\n",
      "837/837 - 0s - loss: 0.4355 - acc: 0.8017 - val_loss: 0.5340 - val_acc: 0.7571\n",
      "Epoch 33/100\n",
      "837/837 - 0s - loss: 0.4318 - acc: 0.8196 - val_loss: 0.4864 - val_acc: 0.7857\n",
      "Epoch 34/100\n",
      "837/837 - 0s - loss: 0.4225 - acc: 0.8148 - val_loss: 0.4832 - val_acc: 0.7714\n",
      "Epoch 35/100\n",
      "837/837 - 0s - loss: 0.4126 - acc: 0.8244 - val_loss: 0.4921 - val_acc: 0.7857\n",
      "Epoch 36/100\n",
      "837/837 - 0s - loss: 0.4109 - acc: 0.8100 - val_loss: 0.4789 - val_acc: 0.7619\n",
      "Epoch 37/100\n",
      "837/837 - 0s - loss: 0.4097 - acc: 0.8160 - val_loss: 0.4844 - val_acc: 0.7952\n",
      "Epoch 38/100\n",
      "837/837 - 0s - loss: 0.4116 - acc: 0.8124 - val_loss: 0.4748 - val_acc: 0.7810\n",
      "Epoch 39/100\n",
      "837/837 - 0s - loss: 0.4114 - acc: 0.8172 - val_loss: 0.4742 - val_acc: 0.7857\n",
      "Epoch 40/100\n",
      "837/837 - 0s - loss: 0.4107 - acc: 0.8220 - val_loss: 0.4779 - val_acc: 0.7810\n",
      "Epoch 41/100\n",
      "837/837 - 0s - loss: 0.4097 - acc: 0.8148 - val_loss: 0.4739 - val_acc: 0.7857\n",
      "Epoch 42/100\n",
      "837/837 - 0s - loss: 0.4032 - acc: 0.8315 - val_loss: 0.4731 - val_acc: 0.7857\n",
      "Epoch 43/100\n",
      "837/837 - 0s - loss: 0.4158 - acc: 0.8220 - val_loss: 0.4738 - val_acc: 0.8000\n",
      "Epoch 44/100\n",
      "837/837 - 0s - loss: 0.4062 - acc: 0.8208 - val_loss: 0.4762 - val_acc: 0.7714\n",
      "Epoch 45/100\n",
      "837/837 - 0s - loss: 0.4040 - acc: 0.8184 - val_loss: 0.4726 - val_acc: 0.7905\n",
      "Epoch 46/100\n",
      "837/837 - 0s - loss: 0.4057 - acc: 0.8268 - val_loss: 0.5235 - val_acc: 0.7810\n",
      "Epoch 47/100\n",
      "837/837 - 0s - loss: 0.4120 - acc: 0.8136 - val_loss: 0.4890 - val_acc: 0.7714\n",
      "Epoch 48/100\n",
      "837/837 - 0s - loss: 0.4102 - acc: 0.8100 - val_loss: 0.4824 - val_acc: 0.7714\n",
      "Epoch 49/100\n",
      "837/837 - 0s - loss: 0.4004 - acc: 0.8232 - val_loss: 0.4860 - val_acc: 0.7619\n",
      "Epoch 50/100\n",
      "837/837 - 0s - loss: 0.3977 - acc: 0.8196 - val_loss: 0.4914 - val_acc: 0.7714\n",
      "Epoch 51/100\n",
      "837/837 - 0s - loss: 0.4022 - acc: 0.8268 - val_loss: 0.4888 - val_acc: 0.7619\n",
      "Epoch 52/100\n",
      "837/837 - 0s - loss: 0.4013 - acc: 0.8160 - val_loss: 0.5076 - val_acc: 0.7524\n",
      "Epoch 53/100\n",
      "837/837 - 0s - loss: 0.4038 - acc: 0.8256 - val_loss: 0.4989 - val_acc: 0.7571\n",
      "Epoch 54/100\n",
      "837/837 - 0s - loss: 0.4014 - acc: 0.8232 - val_loss: 0.4835 - val_acc: 0.7667\n",
      "Epoch 55/100\n",
      "837/837 - 0s - loss: 0.3975 - acc: 0.8232 - val_loss: 0.4716 - val_acc: 0.7667\n",
      "Epoch 56/100\n",
      "837/837 - 0s - loss: 0.3956 - acc: 0.8280 - val_loss: 0.4763 - val_acc: 0.7619\n",
      "Epoch 57/100\n",
      "837/837 - 0s - loss: 0.3914 - acc: 0.8303 - val_loss: 0.4848 - val_acc: 0.7762\n",
      "Epoch 58/100\n",
      "837/837 - 0s - loss: 0.3904 - acc: 0.8292 - val_loss: 0.4678 - val_acc: 0.7952\n",
      "Epoch 59/100\n",
      "837/837 - 0s - loss: 0.3912 - acc: 0.8256 - val_loss: 0.4756 - val_acc: 0.7619\n",
      "Epoch 60/100\n",
      "837/837 - 0s - loss: 0.3940 - acc: 0.8208 - val_loss: 0.5014 - val_acc: 0.7714\n",
      "Epoch 61/100\n",
      "837/837 - 0s - loss: 0.3883 - acc: 0.8244 - val_loss: 0.5131 - val_acc: 0.7714\n",
      "Epoch 62/100\n",
      "837/837 - 0s - loss: 0.4125 - acc: 0.8208 - val_loss: 0.4790 - val_acc: 0.7619\n",
      "Epoch 63/100\n",
      "837/837 - 0s - loss: 0.4289 - acc: 0.8076 - val_loss: 0.5111 - val_acc: 0.7905\n",
      "Epoch 64/100\n",
      "837/837 - 0s - loss: 0.4004 - acc: 0.8208 - val_loss: 0.5055 - val_acc: 0.7810\n",
      "Epoch 65/100\n",
      "837/837 - 0s - loss: 0.3858 - acc: 0.8268 - val_loss: 0.4993 - val_acc: 0.7952\n",
      "Epoch 66/100\n",
      "837/837 - 0s - loss: 0.3838 - acc: 0.8220 - val_loss: 0.4865 - val_acc: 0.8000\n",
      "Epoch 67/100\n",
      "837/837 - 0s - loss: 0.3879 - acc: 0.8280 - val_loss: 0.5210 - val_acc: 0.7667\n",
      "Epoch 68/100\n",
      "837/837 - 0s - loss: 0.3798 - acc: 0.8232 - val_loss: 0.4774 - val_acc: 0.8000\n",
      "Epoch 69/100\n",
      "837/837 - 0s - loss: 0.3839 - acc: 0.8256 - val_loss: 0.5049 - val_acc: 0.7714\n",
      "Epoch 70/100\n",
      "837/837 - 0s - loss: 0.3847 - acc: 0.8327 - val_loss: 0.5032 - val_acc: 0.8048\n",
      "Epoch 71/100\n",
      "837/837 - 0s - loss: 0.3835 - acc: 0.8292 - val_loss: 0.5152 - val_acc: 0.8095\n",
      "Epoch 72/100\n",
      "837/837 - 0s - loss: 0.3924 - acc: 0.8232 - val_loss: 0.5030 - val_acc: 0.8000\n",
      "Epoch 73/100\n",
      "837/837 - 0s - loss: 0.3804 - acc: 0.8172 - val_loss: 0.5114 - val_acc: 0.7952\n",
      "Epoch 74/100\n",
      "837/837 - 0s - loss: 0.3788 - acc: 0.8256 - val_loss: 0.5132 - val_acc: 0.7810\n",
      "Epoch 75/100\n",
      "837/837 - 0s - loss: 0.3791 - acc: 0.8112 - val_loss: 0.5050 - val_acc: 0.7810\n",
      "Epoch 76/100\n",
      "837/837 - 0s - loss: 0.3853 - acc: 0.8244 - val_loss: 0.5392 - val_acc: 0.7619\n",
      "Epoch 77/100\n",
      "837/837 - 0s - loss: 0.3814 - acc: 0.8172 - val_loss: 0.5620 - val_acc: 0.7905\n",
      "Epoch 78/100\n",
      "837/837 - 0s - loss: 0.3825 - acc: 0.8375 - val_loss: 0.4710 - val_acc: 0.7714\n",
      "Epoch 79/100\n",
      "837/837 - 0s - loss: 0.3809 - acc: 0.8339 - val_loss: 0.4905 - val_acc: 0.7952\n",
      "Epoch 80/100\n",
      "837/837 - 0s - loss: 0.3811 - acc: 0.8196 - val_loss: 0.5291 - val_acc: 0.8000\n",
      "Epoch 81/100\n",
      "837/837 - 0s - loss: 0.3904 - acc: 0.8244 - val_loss: 0.4989 - val_acc: 0.7952\n",
      "Epoch 82/100\n",
      "837/837 - 0s - loss: 0.3822 - acc: 0.8339 - val_loss: 0.5259 - val_acc: 0.7762\n",
      "Epoch 83/100\n",
      "837/837 - 0s - loss: 0.3803 - acc: 0.8351 - val_loss: 0.5285 - val_acc: 0.7667\n",
      "Epoch 84/100\n",
      "837/837 - 0s - loss: 0.3759 - acc: 0.8280 - val_loss: 0.5079 - val_acc: 0.7714\n",
      "Epoch 85/100\n",
      "837/837 - 0s - loss: 0.3778 - acc: 0.8256 - val_loss: 0.5025 - val_acc: 0.7762\n",
      "Epoch 86/100\n",
      "837/837 - 0s - loss: 0.3825 - acc: 0.8172 - val_loss: 0.5443 - val_acc: 0.8000\n",
      "Epoch 87/100\n",
      "837/837 - 0s - loss: 0.3812 - acc: 0.8351 - val_loss: 0.5174 - val_acc: 0.7619\n",
      "Epoch 88/100\n",
      "837/837 - 0s - loss: 0.3791 - acc: 0.8232 - val_loss: 0.5393 - val_acc: 0.7667\n",
      "Epoch 89/100\n",
      "837/837 - 0s - loss: 0.3714 - acc: 0.8292 - val_loss: 0.5360 - val_acc: 0.7952\n"
     ]
    },
    {
     "name": "stdout",
     "output_type": "stream",
     "text": [
      "Epoch 90/100\n",
      "837/837 - 0s - loss: 0.3754 - acc: 0.8268 - val_loss: 0.5428 - val_acc: 0.8095\n",
      "Epoch 91/100\n",
      "837/837 - 0s - loss: 0.3785 - acc: 0.8375 - val_loss: 0.5397 - val_acc: 0.7905\n",
      "Epoch 92/100\n",
      "837/837 - 0s - loss: 0.3729 - acc: 0.8244 - val_loss: 0.5246 - val_acc: 0.7857\n",
      "Epoch 93/100\n",
      "837/837 - 0s - loss: 0.3761 - acc: 0.8292 - val_loss: 0.5483 - val_acc: 0.7714\n",
      "Epoch 94/100\n",
      "837/837 - 0s - loss: 0.3710 - acc: 0.8411 - val_loss: 0.5364 - val_acc: 0.7905\n",
      "Epoch 95/100\n",
      "837/837 - 0s - loss: 0.3726 - acc: 0.8232 - val_loss: 0.5657 - val_acc: 0.7952\n",
      "Epoch 96/100\n",
      "837/837 - 0s - loss: 0.3672 - acc: 0.8220 - val_loss: 0.5638 - val_acc: 0.7667\n",
      "Epoch 97/100\n",
      "837/837 - 0s - loss: 0.3768 - acc: 0.8292 - val_loss: 0.5129 - val_acc: 0.7714\n",
      "Epoch 98/100\n",
      "837/837 - 0s - loss: 0.3713 - acc: 0.8292 - val_loss: 0.5597 - val_acc: 0.7810\n",
      "Epoch 99/100\n",
      "837/837 - 0s - loss: 0.3700 - acc: 0.8351 - val_loss: 0.5418 - val_acc: 0.7762\n",
      "Epoch 100/100\n",
      "837/837 - 0s - loss: 0.3733 - acc: 0.8256 - val_loss: 0.5564 - val_acc: 0.7905\n"
     ]
    }
   ],
   "source": [
    "#fit 做真正的训练\n",
    "# x输入特征值\n",
    "#y标签数据\n",
    "#validation_split验证集占的比例\n",
    "#verbose:训练过程显示取值0：不显示，1：带进度调模式，2每个epoch显示\n",
    "# 返回值，过程历时对象，包含loss和acc数据\n",
    "train_history=model.fit(x=x_train,\n",
    "                       y=y_train,\n",
    "                       validation_split=0.2,\n",
    "                       epochs=100,\n",
    "                       batch_size=40,\n",
    "                       verbose=2)"
   ]
  },
  {
   "cell_type": "markdown",
   "metadata": {},
   "source": [
    "model.fit()返回一个history对象，该对象包含一个字典，其中包含训练期间所有情况"
   ]
  },
  {
   "cell_type": "code",
   "execution_count": 17,
   "metadata": {},
   "outputs": [
    {
     "data": {
      "text/plain": [
       "{'loss': [0.5548971722630189,\n",
       "  0.46115269584040486,\n",
       "  0.44789025718023556,\n",
       "  0.4445826946051175,\n",
       "  0.4464225528701659,\n",
       "  0.44165483377028253,\n",
       "  0.4483897307867645,\n",
       "  0.453323065166405,\n",
       "  0.4406393465887546,\n",
       "  0.45263356102125335,\n",
       "  0.4679109689511421,\n",
       "  0.4489093538253538,\n",
       "  0.4314702043539022,\n",
       "  0.4338101690530492,\n",
       "  0.43880778746935345,\n",
       "  0.4395617928841066,\n",
       "  0.45037918581472647,\n",
       "  0.4332802037896506,\n",
       "  0.43642509863083223,\n",
       "  0.43089593418182864,\n",
       "  0.4339794411881423,\n",
       "  0.4360414893681288,\n",
       "  0.43339136104002646,\n",
       "  0.4269329915479662,\n",
       "  0.4214835586371245,\n",
       "  0.42314613591812844,\n",
       "  0.42012133571266985,\n",
       "  0.41788252821390204,\n",
       "  0.42012318213923144,\n",
       "  0.42521881206203677,\n",
       "  0.42280306653737165,\n",
       "  0.43547072903372197,\n",
       "  0.43182813081547633,\n",
       "  0.4225049855603682,\n",
       "  0.4125823753139309,\n",
       "  0.4109425059071294,\n",
       "  0.40966438901751984,\n",
       "  0.4115507453858069,\n",
       "  0.41138210497449373,\n",
       "  0.4106533876670304,\n",
       "  0.40973156761809776,\n",
       "  0.4032416112961308,\n",
       "  0.41576197622355027,\n",
       "  0.4062355380046895,\n",
       "  0.40401781933424435,\n",
       "  0.40565474318916794,\n",
       "  0.4120388605688635,\n",
       "  0.41019041909254295,\n",
       "  0.4003853422980155,\n",
       "  0.3977296721265877,\n",
       "  0.4022207940564788,\n",
       "  0.4012560508655676,\n",
       "  0.40384185983573523,\n",
       "  0.4014409549418601,\n",
       "  0.3975291576151922,\n",
       "  0.39561124251022706,\n",
       "  0.39139294506828415,\n",
       "  0.39036931658303864,\n",
       "  0.39119047133013907,\n",
       "  0.3940096529937275,\n",
       "  0.38825050412967643,\n",
       "  0.4125301790565003,\n",
       "  0.42885686088633795,\n",
       "  0.400383216541443,\n",
       "  0.385761711296927,\n",
       "  0.38378403406131795,\n",
       "  0.3879038304126106,\n",
       "  0.37984697251906674,\n",
       "  0.3838634196148124,\n",
       "  0.3847103014214492,\n",
       "  0.383498105702292,\n",
       "  0.3924387596556505,\n",
       "  0.3803795962778044,\n",
       "  0.37876847461133023,\n",
       "  0.3791485718643936,\n",
       "  0.38530965792093086,\n",
       "  0.38144883399511037,\n",
       "  0.3825249468269029,\n",
       "  0.3808837040564493,\n",
       "  0.3810758959577645,\n",
       "  0.3903800845858302,\n",
       "  0.3822292817963494,\n",
       "  0.38026726313531756,\n",
       "  0.3759383093855002,\n",
       "  0.3777600377976111,\n",
       "  0.38248804240101414,\n",
       "  0.38123195199128973,\n",
       "  0.3791390639977928,\n",
       "  0.371398041396443,\n",
       "  0.37543233470677473,\n",
       "  0.3784918072616755,\n",
       "  0.37288996409914116,\n",
       "  0.37613276918301874,\n",
       "  0.37102943794131993,\n",
       "  0.372637115570237,\n",
       "  0.367163224156897,\n",
       "  0.37683421562079744,\n",
       "  0.37127341292664995,\n",
       "  0.37001749150357083,\n",
       "  0.3733128998228299],\n",
       " 'acc': [0.72162485,\n",
       "  0.80167264,\n",
       "  0.8040621,\n",
       "  0.8088411,\n",
       "  0.8112306,\n",
       "  0.8040621,\n",
       "  0.80525684,\n",
       "  0.7921147,\n",
       "  0.79808843,\n",
       "  0.8040621,\n",
       "  0.79808843,\n",
       "  0.8004779,\n",
       "  0.80764633,\n",
       "  0.8148148,\n",
       "  0.8028674,\n",
       "  0.8004779,\n",
       "  0.8064516,\n",
       "  0.8124253,\n",
       "  0.8100358,\n",
       "  0.8004779,\n",
       "  0.79689366,\n",
       "  0.80764633,\n",
       "  0.79928315,\n",
       "  0.8088411,\n",
       "  0.8088411,\n",
       "  0.8112306,\n",
       "  0.8195938,\n",
       "  0.8136201,\n",
       "  0.8160096,\n",
       "  0.8172043,\n",
       "  0.8148148,\n",
       "  0.80167264,\n",
       "  0.8195938,\n",
       "  0.8148148,\n",
       "  0.82437277,\n",
       "  0.8100358,\n",
       "  0.8160096,\n",
       "  0.8124253,\n",
       "  0.8172043,\n",
       "  0.8219833,\n",
       "  0.8148148,\n",
       "  0.83154124,\n",
       "  0.8219833,\n",
       "  0.8207885,\n",
       "  0.8183991,\n",
       "  0.82676226,\n",
       "  0.8136201,\n",
       "  0.8100358,\n",
       "  0.823178,\n",
       "  0.8195938,\n",
       "  0.82676226,\n",
       "  0.8160096,\n",
       "  0.8255675,\n",
       "  0.823178,\n",
       "  0.823178,\n",
       "  0.827957,\n",
       "  0.83034647,\n",
       "  0.82915175,\n",
       "  0.8255675,\n",
       "  0.8207885,\n",
       "  0.82437277,\n",
       "  0.8207885,\n",
       "  0.80764633,\n",
       "  0.8207885,\n",
       "  0.82676226,\n",
       "  0.8219833,\n",
       "  0.827957,\n",
       "  0.823178,\n",
       "  0.8255675,\n",
       "  0.83273596,\n",
       "  0.82915175,\n",
       "  0.823178,\n",
       "  0.8172043,\n",
       "  0.8255675,\n",
       "  0.8112306,\n",
       "  0.82437277,\n",
       "  0.8172043,\n",
       "  0.83751494,\n",
       "  0.83393073,\n",
       "  0.8195938,\n",
       "  0.82437277,\n",
       "  0.83393073,\n",
       "  0.83512545,\n",
       "  0.827957,\n",
       "  0.8255675,\n",
       "  0.8172043,\n",
       "  0.83512545,\n",
       "  0.823178,\n",
       "  0.82915175,\n",
       "  0.82676226,\n",
       "  0.83751494,\n",
       "  0.82437277,\n",
       "  0.82915175,\n",
       "  0.84109914,\n",
       "  0.823178,\n",
       "  0.8219833,\n",
       "  0.82915175,\n",
       "  0.82915175,\n",
       "  0.83512545,\n",
       "  0.8255675],\n",
       " 'val_loss': [0.5464054076444536,\n",
       "  0.512297952458972,\n",
       "  0.5227100508553642,\n",
       "  0.5077760787237258,\n",
       "  0.520126672018142,\n",
       "  0.5033048646790641,\n",
       "  0.562148704415276,\n",
       "  0.5191982274963742,\n",
       "  0.5018047179494586,\n",
       "  0.5452272778465634,\n",
       "  0.5240106156894139,\n",
       "  0.5092509161858332,\n",
       "  0.4977797908442361,\n",
       "  0.5064079250608172,\n",
       "  0.5044974173818316,\n",
       "  0.515585645323708,\n",
       "  0.5302455595561436,\n",
       "  0.502975134622483,\n",
       "  0.49976814077014015,\n",
       "  0.4987919259639013,\n",
       "  0.5149158182598296,\n",
       "  0.5472855738231114,\n",
       "  0.49818800389766693,\n",
       "  0.48940313217185794,\n",
       "  0.4979408468518938,\n",
       "  0.48845335841178894,\n",
       "  0.4857476552327474,\n",
       "  0.47996746926080613,\n",
       "  0.5352546913283212,\n",
       "  0.48717753234363737,\n",
       "  0.4927019632997967,\n",
       "  0.5340285946925482,\n",
       "  0.48642144600550336,\n",
       "  0.4831612649418059,\n",
       "  0.4920625942093985,\n",
       "  0.4788926130249387,\n",
       "  0.48444535051073345,\n",
       "  0.4748059454418364,\n",
       "  0.4742058061418079,\n",
       "  0.47792127586546396,\n",
       "  0.47391993800799054,\n",
       "  0.47313221863337923,\n",
       "  0.47378537910325186,\n",
       "  0.47617208815756296,\n",
       "  0.4725676803361802,\n",
       "  0.5234982768694559,\n",
       "  0.4889520619596754,\n",
       "  0.4824422172137669,\n",
       "  0.4859625328154791,\n",
       "  0.4913753271102905,\n",
       "  0.48879569059326533,\n",
       "  0.5076246658960978,\n",
       "  0.49893143347331453,\n",
       "  0.48346700838633944,\n",
       "  0.4715696204276312,\n",
       "  0.4762770136197408,\n",
       "  0.48477561133248465,\n",
       "  0.4678411554722559,\n",
       "  0.4755683002017793,\n",
       "  0.5013699531555176,\n",
       "  0.5131413383143288,\n",
       "  0.47903349427949815,\n",
       "  0.5111146058355059,\n",
       "  0.5055382464613233,\n",
       "  0.49932010542778743,\n",
       "  0.48647762764067876,\n",
       "  0.5210125162487939,\n",
       "  0.47735540923618136,\n",
       "  0.5049259378796532,\n",
       "  0.50319866055534,\n",
       "  0.5151793970948174,\n",
       "  0.5029542921554475,\n",
       "  0.5113808995201474,\n",
       "  0.5132458607355753,\n",
       "  0.5050080787567865,\n",
       "  0.5391916448161715,\n",
       "  0.5619813203811646,\n",
       "  0.47096820388521465,\n",
       "  0.4904625103587196,\n",
       "  0.5291369897978646,\n",
       "  0.4988573817979722,\n",
       "  0.5258588223230272,\n",
       "  0.5284672407876878,\n",
       "  0.5078934856823513,\n",
       "  0.5025051016183126,\n",
       "  0.5442851611546108,\n",
       "  0.5174062635217395,\n",
       "  0.5392911859921047,\n",
       "  0.5360140630177089,\n",
       "  0.5427812039852142,\n",
       "  0.5397462248802185,\n",
       "  0.5245583681833177,\n",
       "  0.5483189395495823,\n",
       "  0.5363803520089104,\n",
       "  0.5657088699794951,\n",
       "  0.5637733794393993,\n",
       "  0.512878961506344,\n",
       "  0.5597260580176399,\n",
       "  0.5417603084019252,\n",
       "  0.556361810082481],\n",
       " 'val_acc': [0.7809524,\n",
       "  0.7714286,\n",
       "  0.75238097,\n",
       "  0.77619046,\n",
       "  0.7714286,\n",
       "  0.7809524,\n",
       "  0.7285714,\n",
       "  0.7619048,\n",
       "  0.7714286,\n",
       "  0.7619048,\n",
       "  0.7619048,\n",
       "  0.7619048,\n",
       "  0.76666665,\n",
       "  0.75714284,\n",
       "  0.77619046,\n",
       "  0.7619048,\n",
       "  0.76666665,\n",
       "  0.76666665,\n",
       "  0.76666665,\n",
       "  0.76666665,\n",
       "  0.7619048,\n",
       "  0.7619048,\n",
       "  0.76666665,\n",
       "  0.7714286,\n",
       "  0.77619046,\n",
       "  0.7809524,\n",
       "  0.75714284,\n",
       "  0.76666665,\n",
       "  0.76666665,\n",
       "  0.78571427,\n",
       "  0.76666665,\n",
       "  0.75714284,\n",
       "  0.78571427,\n",
       "  0.7714286,\n",
       "  0.78571427,\n",
       "  0.7619048,\n",
       "  0.7952381,\n",
       "  0.7809524,\n",
       "  0.78571427,\n",
       "  0.7809524,\n",
       "  0.78571427,\n",
       "  0.78571427,\n",
       "  0.8,\n",
       "  0.7714286,\n",
       "  0.7904762,\n",
       "  0.7809524,\n",
       "  0.7714286,\n",
       "  0.7714286,\n",
       "  0.7619048,\n",
       "  0.7714286,\n",
       "  0.7619048,\n",
       "  0.75238097,\n",
       "  0.75714284,\n",
       "  0.76666665,\n",
       "  0.76666665,\n",
       "  0.7619048,\n",
       "  0.77619046,\n",
       "  0.7952381,\n",
       "  0.7619048,\n",
       "  0.7714286,\n",
       "  0.7714286,\n",
       "  0.7619048,\n",
       "  0.7904762,\n",
       "  0.7809524,\n",
       "  0.7952381,\n",
       "  0.8,\n",
       "  0.76666665,\n",
       "  0.8,\n",
       "  0.7714286,\n",
       "  0.8047619,\n",
       "  0.8095238,\n",
       "  0.8,\n",
       "  0.7952381,\n",
       "  0.7809524,\n",
       "  0.7809524,\n",
       "  0.7619048,\n",
       "  0.7904762,\n",
       "  0.7714286,\n",
       "  0.7952381,\n",
       "  0.8,\n",
       "  0.7952381,\n",
       "  0.77619046,\n",
       "  0.76666665,\n",
       "  0.7714286,\n",
       "  0.77619046,\n",
       "  0.8,\n",
       "  0.7619048,\n",
       "  0.76666665,\n",
       "  0.7952381,\n",
       "  0.8095238,\n",
       "  0.7904762,\n",
       "  0.78571427,\n",
       "  0.7714286,\n",
       "  0.7904762,\n",
       "  0.7952381,\n",
       "  0.76666665,\n",
       "  0.7714286,\n",
       "  0.7809524,\n",
       "  0.77619046,\n",
       "  0.7904762]}"
      ]
     },
     "execution_count": 17,
     "metadata": {},
     "output_type": "execute_result"
    }
   ],
   "source": [
    "train_history.history"
   ]
  },
  {
   "cell_type": "code",
   "execution_count": 18,
   "metadata": {},
   "outputs": [
    {
     "data": {
      "text/plain": [
       "dict_keys(['loss', 'acc', 'val_loss', 'val_acc'])"
      ]
     },
     "execution_count": 18,
     "metadata": {},
     "output_type": "execute_result"
    }
   ],
   "source": [
    "train_history.history.keys()"
   ]
  },
  {
   "cell_type": "markdown",
   "metadata": {},
   "source": [
    "# 训练过程可视化"
   ]
  },
  {
   "cell_type": "code",
   "execution_count": 19,
   "metadata": {},
   "outputs": [],
   "source": [
    "import matplotlib.pyplot as plt\n",
    "def visu_train_history(train_history,train_metric,validation_metric):\n",
    "    plt.plot(train_history.history[train_metric])\n",
    "    plt.plot(train_history.history[validation_metric])\n",
    "    plt.title('train history')\n",
    "    plt.ylabel(train_metric)\n",
    "    plt.xlabel('epoch')\n",
    "    plt.legend(['train','validation'],loc='upper left')\n",
    "    plt.show()"
   ]
  },
  {
   "cell_type": "code",
   "execution_count": 20,
   "metadata": {},
   "outputs": [
    {
     "data": {
      "image/png": "[encoded data removed]",
      "text/plain": [
       "<Figure size 432x288 with 1 Axes>"
      ]
     },
     "metadata": {
      "needs_background": "light"
     },
     "output_type": "display_data"
    }
   ],
   "source": [
    "visu_train_history(train_history,'acc','val_acc')"
   ]
  },
  {
   "cell_type": "code",
   "execution_count": 21,
   "metadata": {},
   "outputs": [
    {
     "data": {
      "image/png": "[encoded data removed]",
      "text/plain": [
       "<Figure size 432x288 with 1 Axes>"
      ]
     },
     "metadata": {
      "needs_background": "light"
     },
     "output_type": "display_data"
    }
   ],
   "source": [
    "visu_train_history(train_history,'loss','val_loss')"
   ]
  },
  {
   "cell_type": "markdown",
   "metadata": {},
   "source": [
    "# 模型评估"
   ]
  },
  {
   "cell_type": "code",
   "execution_count": 22,
   "metadata": {},
   "outputs": [
    {
     "name": "stdout",
     "output_type": "stream",
     "text": [
      "262/262 [==============================] - 0s 145us/sample - loss: 0.5200 - acc: 0.7977\n"
     ]
    }
   ],
   "source": [
    "evaluate_result=model.evaluate(x=x_test,y=y_test)"
   ]
  },
  {
   "cell_type": "code",
   "execution_count": 23,
   "metadata": {},
   "outputs": [
    {
     "data": {
      "text/plain": [
       "[0.5200496863090355, 0.79770994]"
      ]
     },
     "execution_count": 23,
     "metadata": {},
     "output_type": "execute_result"
    }
   ],
   "source": [
    "evaluate_result"
   ]
  },
  {
   "cell_type": "code",
   "execution_count": 24,
   "metadata": {},
   "outputs": [
    {
     "data": {
      "text/plain": [
       "['loss', 'acc']"
      ]
     },
     "execution_count": 24,
     "metadata": {},
     "output_type": "execute_result"
    }
   ],
   "source": [
    "model.metrics_names"
   ]
  },
  {
   "cell_type": "markdown",
   "metadata": {},
   "source": [
    "# 模型应用预测Rose和Jack的生存概率\n"
   ]
  },
  {
   "cell_type": "code",
   "execution_count": 25,
   "metadata": {},
   "outputs": [
    {
     "data": {
      "text/plain": [
       "['survived',\n",
       " 'name',\n",
       " 'pclass',\n",
       " 'sex',\n",
       " 'age',\n",
       " 'sibsp',\n",
       " 'parch',\n",
       " 'fare',\n",
       " 'embarked']"
      ]
     },
     "execution_count": 25,
     "metadata": {},
     "output_type": "execute_result"
    }
   ],
   "source": [
    "#添加旅客信息\n",
    "selected_cols"
   ]
  },
  {
   "cell_type": "code",
   "execution_count": 26,
   "metadata": {},
   "outputs": [],
   "source": [
    "# Jack和Rose的旅客信息\n",
    "Jack_info=[0,'Jack',3,'male',23,1,0,5.0000,'S']\n",
    "Rose_info=[1,'Rose',1,'female',20,1,0,100.0000,'S']"
   ]
  },
  {
   "cell_type": "code",
   "execution_count": 27,
   "metadata": {},
   "outputs": [],
   "source": [
    "#创建新的旅客DataFrame\n",
    "new_passenger_pd=pd.DataFrame([Jack_info,Rose_info],columns=selected_cols)"
   ]
  },
  {
   "cell_type": "code",
   "execution_count": 28,
   "metadata": {},
   "outputs": [],
   "source": [
    "# 在老的DataFrame中加入新的旅客信息\n",
    "all_passenger_pd=selected_df_data.append(new_passenger_pd)"
   ]
  },
  {
   "cell_type": "code",
   "execution_count": 29,
   "metadata": {},
   "outputs": [
    {
     "data": {
      "text/plain": [
       "(1311, 9)"
      ]
     },
     "execution_count": 29,
     "metadata": {},
     "output_type": "execute_result"
    }
   ],
   "source": [
    "all_passenger_pd.shape"
   ]
  },
  {
   "cell_type": "code",
   "execution_count": 30,
   "metadata": {},
   "outputs": [
    {
     "data": {
      "text/html": [
       "<div>\n",
       "<style scoped>\n",
       "    .dataframe tbody tr th:only-of-type {\n",
       "        vertical-align: middle;\n",
       "    }\n",
       "\n",
       "    .dataframe tbody tr th {\n",
       "        vertical-align: top;\n",
       "    }\n",
       "\n",
       "    .dataframe thead th {\n",
       "        text-align: right;\n",
       "    }\n",
       "</style>\n",
       "<table border=\"1\" class=\"dataframe\">\n",
       "  <thead>\n",
       "    <tr style=\"text-align: right;\">\n",
       "      <th></th>\n",
       "      <th>survived</th>\n",
       "      <th>name</th>\n",
       "      <th>pclass</th>\n",
       "      <th>sex</th>\n",
       "      <th>age</th>\n",
       "      <th>sibsp</th>\n",
       "      <th>parch</th>\n",
       "      <th>fare</th>\n",
       "      <th>embarked</th>\n",
       "    </tr>\n",
       "  </thead>\n",
       "  <tbody>\n",
       "    <tr>\n",
       "      <th>1308</th>\n",
       "      <td>0</td>\n",
       "      <td>Zimmerman, Mr. Leo</td>\n",
       "      <td>3</td>\n",
       "      <td>male</td>\n",
       "      <td>29.0</td>\n",
       "      <td>0</td>\n",
       "      <td>0</td>\n",
       "      <td>7.875</td>\n",
       "      <td>S</td>\n",
       "    </tr>\n",
       "    <tr>\n",
       "      <th>0</th>\n",
       "      <td>0</td>\n",
       "      <td>Jack</td>\n",
       "      <td>3</td>\n",
       "      <td>male</td>\n",
       "      <td>23.0</td>\n",
       "      <td>1</td>\n",
       "      <td>0</td>\n",
       "      <td>5.000</td>\n",
       "      <td>S</td>\n",
       "    </tr>\n",
       "    <tr>\n",
       "      <th>1</th>\n",
       "      <td>1</td>\n",
       "      <td>Rose</td>\n",
       "      <td>1</td>\n",
       "      <td>female</td>\n",
       "      <td>20.0</td>\n",
       "      <td>1</td>\n",
       "      <td>0</td>\n",
       "      <td>100.000</td>\n",
       "      <td>S</td>\n",
       "    </tr>\n",
       "  </tbody>\n",
       "</table>\n",
       "</div>"
      ],
      "text/plain": [
       "      survived                name  pclass     sex   age  sibsp  parch  \\\n",
       "1308         0  Zimmerman, Mr. Leo       3    male  29.0      0      0   \n",
       "0            0                Jack       3    male  23.0      1      0   \n",
       "1            1                Rose       1  female  20.0      1      0   \n",
       "\n",
       "         fare embarked  \n",
       "1308    7.875        S  \n",
       "0       5.000        S  \n",
       "1     100.000        S  "
      ]
     },
     "execution_count": 30,
     "metadata": {},
     "output_type": "execute_result"
    }
   ],
   "source": [
    "all_passenger_pd[-3:]"
   ]
  },
  {
   "cell_type": "code",
   "execution_count": 31,
   "metadata": {},
   "outputs": [],
   "source": [
    "# 数据准备\n",
    "x_features,y_label=prepare_data(all_passenger_pd)"
   ]
  },
  {
   "cell_type": "code",
   "execution_count": 32,
   "metadata": {},
   "outputs": [
    {
     "data": {
      "text/plain": [
       "(1311, 9)"
      ]
     },
     "execution_count": 32,
     "metadata": {},
     "output_type": "execute_result"
    }
   ],
   "source": [
    "x_features.shape\n",
    "all_passenger_pd.shape"
   ]
  },
  {
   "cell_type": "code",
   "execution_count": 33,
   "metadata": {},
   "outputs": [],
   "source": [
    "# 利用模型计算生存率\n",
    "surv_probability=model.predict(x_features)"
   ]
  },
  {
   "cell_type": "code",
   "execution_count": 34,
   "metadata": {},
   "outputs": [
    {
     "data": {
      "text/plain": [
       "array([[0.97206366],\n",
       "       [0.9976086 ],\n",
       "       [0.99942493],\n",
       "       [0.06446597],\n",
       "       [0.26345184]], dtype=float32)"
      ]
     },
     "execution_count": 34,
     "metadata": {},
     "output_type": "execute_result"
    }
   ],
   "source": [
    "surv_probability[:5]"
   ]
  },
  {
   "cell_type": "code",
   "execution_count": 35,
   "metadata": {},
   "outputs": [],
   "source": [
    "# 在数据最后一列插入生存概率\n",
    "all_passenger_pd.insert(loc=len(all_passenger_pd.columns),column='surv_probability',value=surv_probability)"
   ]
  },
  {
   "cell_type": "code",
   "execution_count": 36,
   "metadata": {},
   "outputs": [
    {
     "data": {
      "text/html": [
       "<div>\n",
       "<style scoped>\n",
       "    .dataframe tbody tr th:only-of-type {\n",
       "        vertical-align: middle;\n",
       "    }\n",
       "\n",
       "    .dataframe tbody tr th {\n",
       "        vertical-align: top;\n",
       "    }\n",
       "\n",
       "    .dataframe thead th {\n",
       "        text-align: right;\n",
       "    }\n",
       "</style>\n",
       "<table border=\"1\" class=\"dataframe\">\n",
       "  <thead>\n",
       "    <tr style=\"text-align: right;\">\n",
       "      <th></th>\n",
       "      <th>survived</th>\n",
       "      <th>name</th>\n",
       "      <th>pclass</th>\n",
       "      <th>sex</th>\n",
       "      <th>age</th>\n",
       "      <th>sibsp</th>\n",
       "      <th>parch</th>\n",
       "      <th>fare</th>\n",
       "      <th>embarked</th>\n",
       "      <th>surv_probability</th>\n",
       "    </tr>\n",
       "  </thead>\n",
       "  <tbody>\n",
       "    <tr>\n",
       "      <th>1306</th>\n",
       "      <td>0</td>\n",
       "      <td>Zakarian, Mr. Mapriededer</td>\n",
       "      <td>3</td>\n",
       "      <td>male</td>\n",
       "      <td>26.5</td>\n",
       "      <td>0</td>\n",
       "      <td>0</td>\n",
       "      <td>7.225</td>\n",
       "      <td>C</td>\n",
       "      <td>0.178399</td>\n",
       "    </tr>\n",
       "    <tr>\n",
       "      <th>1307</th>\n",
       "      <td>0</td>\n",
       "      <td>Zakarian, Mr. Ortin</td>\n",
       "      <td>3</td>\n",
       "      <td>male</td>\n",
       "      <td>27.0</td>\n",
       "      <td>0</td>\n",
       "      <td>0</td>\n",
       "      <td>7.225</td>\n",
       "      <td>C</td>\n",
       "      <td>0.176720</td>\n",
       "    </tr>\n",
       "    <tr>\n",
       "      <th>1308</th>\n",
       "      <td>0</td>\n",
       "      <td>Zimmerman, Mr. Leo</td>\n",
       "      <td>3</td>\n",
       "      <td>male</td>\n",
       "      <td>29.0</td>\n",
       "      <td>0</td>\n",
       "      <td>0</td>\n",
       "      <td>7.875</td>\n",
       "      <td>S</td>\n",
       "      <td>0.154706</td>\n",
       "    </tr>\n",
       "    <tr>\n",
       "      <th>0</th>\n",
       "      <td>0</td>\n",
       "      <td>Jack</td>\n",
       "      <td>3</td>\n",
       "      <td>male</td>\n",
       "      <td>23.0</td>\n",
       "      <td>1</td>\n",
       "      <td>0</td>\n",
       "      <td>5.000</td>\n",
       "      <td>S</td>\n",
       "      <td>0.151393</td>\n",
       "    </tr>\n",
       "    <tr>\n",
       "      <th>1</th>\n",
       "      <td>1</td>\n",
       "      <td>Rose</td>\n",
       "      <td>1</td>\n",
       "      <td>female</td>\n",
       "      <td>20.0</td>\n",
       "      <td>1</td>\n",
       "      <td>0</td>\n",
       "      <td>100.000</td>\n",
       "      <td>S</td>\n",
       "      <td>0.997102</td>\n",
       "    </tr>\n",
       "  </tbody>\n",
       "</table>\n",
       "</div>"
      ],
      "text/plain": [
       "      survived                       name  pclass     sex   age  sibsp  parch  \\\n",
       "1306         0  Zakarian, Mr. Mapriededer       3    male  26.5      0      0   \n",
       "1307         0        Zakarian, Mr. Ortin       3    male  27.0      0      0   \n",
       "1308         0         Zimmerman, Mr. Leo       3    male  29.0      0      0   \n",
       "0            0                       Jack       3    male  23.0      1      0   \n",
       "1            1                       Rose       1  female  20.0      1      0   \n",
       "\n",
       "         fare embarked  surv_probability  \n",
       "1306    7.225        C          0.178399  \n",
       "1307    7.225        C          0.176720  \n",
       "1308    7.875        S          0.154706  \n",
       "0       5.000        S          0.151393  \n",
       "1     100.000        S          0.997102  "
      ]
     },
     "execution_count": 36,
     "metadata": {},
     "output_type": "execute_result"
    }
   ],
   "source": [
    "all_passenger_pd[-5:]"
   ]
  },
  {
   "cell_type": "code",
   "execution_count": 37,
   "metadata": {},
   "outputs": [
    {
     "data": {
      "text/plain": [
       "(1311, 1)"
      ]
     },
     "execution_count": 37,
     "metadata": {},
     "output_type": "execute_result"
    }
   ],
   "source": [
    "surv_probability.shape\n"
   ]
  },
  {
   "cell_type": "code",
   "execution_count": 38,
   "metadata": {},
   "outputs": [
    {
     "data": {
      "text/plain": [
       "(1311, 10)"
      ]
     },
     "execution_count": 38,
     "metadata": {},
     "output_type": "execute_result"
    }
   ],
   "source": [
    "all_passenger_pd.shape"
   ]
  },
  {
   "cell_type": "code",
   "execution_count": 39,
   "metadata": {},
   "outputs": [
    {
     "data": {
      "text/plain": [
       "(1311, 7)"
      ]
     },
     "execution_count": 39,
     "metadata": {},
     "output_type": "execute_result"
    }
   ],
   "source": [
    "x_features.shape"
   ]
  },
  {
   "cell_type": "code",
   "execution_count": null,
   "metadata": {},
   "outputs": [],
   "source": []
  }
 ],
 "metadata": {
  "kernelspec": {
   "display_name": "Python 3.6.3 64-bit ('TensorFlow': conda)",
   "language": "python",
   "name": "python36364bittensorflowconda6ab1db8ce32440309d56a8d3027fa22b"
  },
  "language_info": {
   "codemirror_mode": {
    "name": "ipython",
    "version": 3
   },
   "file_extension": ".py",
   "mimetype": "text/x-python",
   "name": "python",
   "nbconvert_exporter": "python",
   "pygments_lexer": "ipython3",
   "version": "3.6.3"
  }
 },
 "nbformat": 4,
 "nbformat_minor": 2
}
