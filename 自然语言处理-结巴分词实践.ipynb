{
 "cells": [
  {
   "cell_type": "code",
   "execution_count": 1,
   "metadata": {},
   "outputs": [],
   "source": [
    "import jieba"
   ]
  },
  {
   "cell_type": "code",
   "execution_count": 2,
   "metadata": {},
   "outputs": [],
   "source": [
    "text='我是练习时长两年半的个人练习生蔡徐坤，我喜欢唱跳rap和篮球'"
   ]
  },
  {
   "cell_type": "code",
   "execution_count": 3,
   "metadata": {},
   "outputs": [
    {
     "data": {
      "text/plain": [
       "'我是练习时长两年半的个人练习生蔡徐坤，我喜欢唱跳rap和篮球'"
      ]
     },
     "execution_count": 3,
     "metadata": {},
     "output_type": "execute_result"
    }
   ],
   "source": [
    "text"
   ]
  },
  {
   "cell_type": "code",
   "execution_count": 4,
   "metadata": {},
   "outputs": [],
   "source": [
    "word_list=jieba.cut(text)"
   ]
  },
  {
   "cell_type": "code",
   "execution_count": 5,
   "metadata": {},
   "outputs": [
    {
     "name": "stdout",
     "output_type": "stream",
     "text": [
      "<generator object Tokenizer.cut at 0x00000130BB125DB0>\n"
     ]
    }
   ],
   "source": [
    "print(word_list)"
   ]
  },
  {
   "cell_type": "code",
   "execution_count": 6,
   "metadata": {},
   "outputs": [
    {
     "name": "stderr",
     "output_type": "stream",
     "text": [
      "Building prefix dict from the default dictionary ...\n",
      "Dumping model to file cache C:\\Users\\Administrator\\AppData\\Local\\Temp\\jieba.cache\n",
      "Loading model cost 0.637 seconds.\n",
      "Prefix dict has been built succesfully.\n"
     ]
    },
    {
     "name": "stdout",
     "output_type": "stream",
     "text": [
      "['我', '是', '练习', '时', '长', '两年', '半', '的', '个人', '练习生', '蔡', '徐坤', '，', '我', '喜欢', '唱', '跳', 'rap', '和', '篮球']\n"
     ]
    }
   ],
   "source": [
    "print(list(word_list))# 缺省是精确模式"
   ]
  },
  {
   "cell_type": "code",
   "execution_count": 8,
   "metadata": {},
   "outputs": [
    {
     "name": "stdout",
     "output_type": "stream",
     "text": [
      "精确模式分词结果为：我/是/练习/时/长/两年/半/的/个人/练习生/蔡/徐坤/，/我/喜欢/唱/跳/rap/和/篮球\n"
     ]
    }
   ],
   "source": [
    "word_list=jieba.cut(text,cut_all=False)\n",
    "print(\"精确模式分词结果为：\"+\"/\".join(word_list))# 全模式"
   ]
  },
  {
   "cell_type": "code",
   "execution_count": 10,
   "metadata": {},
   "outputs": [
    {
     "name": "stdout",
     "output_type": "stream",
     "text": [
      "全模式分词结果为：我/是/练习/时长/两年/年半/的/个人/练习/练习生/蔡/徐/坤///我/喜欢/欢唱/跳/rap/和/篮球\n"
     ]
    }
   ],
   "source": [
    "word_list=jieba.cut(text,cut_all=True)\n",
    "print(\"全模式分词结果为：\"+\"/\".join(word_list))# 全模式\n",
    "# 这样更长比如练习练习生，把各种可能组合的方法都列了出来，精确模式没有重复的"
   ]
  },
  {
   "cell_type": "code",
   "execution_count": 11,
   "metadata": {},
   "outputs": [
    {
     "name": "stdout",
     "output_type": "stream",
     "text": [
      "搜索引擎分词结果为：我/是/练习/时/长/两年/半/的/个人/练习/练习生/蔡/徐坤/，/我/喜欢/唱/跳/rap/和/篮球\n"
     ]
    }
   ],
   "source": [
    "word_list=jieba.cut_for_search(text)\n",
    "print(\"搜索引擎分词结果为：\"+\"/\".join(word_list))# 搜索引擎模式"
   ]
  },
  {
   "cell_type": "code",
   "execution_count": 12,
   "metadata": {},
   "outputs": [
    {
     "name": "stdout",
     "output_type": "stream",
     "text": [
      "['我', '是', '练习', '时', '长', '两年', '半', '的', '个人', '练习生', '蔡', '徐坤', '，', '我', '喜欢', '唱', '跳', 'rap', '和', '篮球']\n"
     ]
    }
   ],
   "source": [
    "# 把结果直接返回列表\n",
    "word_list=jieba.lcut(text)\n",
    "print(word_list)"
   ]
  },
  {
   "cell_type": "code",
   "execution_count": 13,
   "metadata": {},
   "outputs": [
    {
     "name": "stdout",
     "output_type": "stream",
     "text": [
      "['我', '是', '练习', '时', '长', '两年', '半', '的', '个人', '练习', '练习生', '蔡', '徐坤', '，', '我', '喜欢', '唱', '跳', 'rap', '和', '篮球']\n"
     ]
    }
   ],
   "source": [
    "# 把结果直接返回列表\n",
    "word_list=jieba.lcut_for_search(text)\n",
    "print(word_list)"
   ]
  },
  {
   "cell_type": "code",
   "execution_count": 16,
   "metadata": {},
   "outputs": [],
   "source": [
    "#如何把练习生和蔡徐坤也作为一体 ,在当前目录\n",
    "jieba.load_userdict('mydict.txt')"
   ]
  },
  {
   "cell_type": "code",
   "execution_count": 17,
   "metadata": {},
   "outputs": [
    {
     "name": "stdout",
     "output_type": "stream",
     "text": [
      "['我', '是', '练习', '时', '长', '两年', '半', '的', '个人', '练习生', '蔡徐坤', '，', '我', '喜欢', '唱', '跳', 'rap', '和', '篮球']\n"
     ]
    }
   ],
   "source": [
    "word_list=jieba.lcut(text)\n",
    "print(word_list)"
   ]
  },
  {
   "cell_type": "code",
   "execution_count": null,
   "metadata": {},
   "outputs": [],
   "source": []
  }
 ],
 "metadata": {
  "kernelspec": {
   "display_name": "Python 3.6.3 64-bit ('TensorFlow': conda)",
   "language": "python",
   "name": "python36364bittensorflowconda38b79ddab0724ed4aff533accc5e8161"
  },
  "language_info": {
   "codemirror_mode": {
    "name": "ipython",
    "version": 3
   },
   "file_extension": ".py",
   "mimetype": "text/x-python",
   "name": "python",
   "nbconvert_exporter": "python",
   "pygments_lexer": "ipython3",
   "version": "3.6.3"
  }
 },
 "nbformat": 4,
 "nbformat_minor": 2
}
