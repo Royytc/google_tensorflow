{
 "cells": [
  {
   "cell_type": "code",
   "execution_count": 1,
   "metadata": {},
   "outputs": [],
   "source": [
    "import tensorflow as  tf\n",
    "import numpy as np\n",
    "x=np.array([-3.1,1.8,9.7,-2.5])\n",
    "pred=tf.nn.softmax(x)"
   ]
  },
  {
   "cell_type": "code",
   "execution_count": 3,
   "metadata": {},
   "outputs": [
    {
     "name": "stdout",
     "output_type": "stream",
     "text": [
      "[2.75972792e-06 3.70603254e-04 9.99621608e-01 5.02855213e-06]\n"
     ]
    }
   ],
   "source": [
    "sess=tf.Session()\n",
    "v=sess.run(pred)\n",
    "print(v)\n",
    "sess.close()"
   ]
  },
  {
   "cell_type": "code",
   "execution_count": null,
   "metadata": {},
   "outputs": [],
   "source": []
  }
 ],
 "metadata": {
  "kernelspec": {
   "display_name": "Python 3.6.3 64-bit ('TensorFlow': conda)",
   "language": "python",
   "name": "python36364bittensorflowconda38b79ddab0724ed4aff533accc5e8161"
  },
  "language_info": {
   "codemirror_mode": {
    "name": "ipython",
    "version": 3
   },
   "file_extension": ".py",
   "mimetype": "text/x-python",
   "name": "python",
   "nbconvert_exporter": "python",
   "pygments_lexer": "ipython3",
   "version": "3.6.3"
  }
 },
 "nbformat": 4,
 "nbformat_minor": 2
}
