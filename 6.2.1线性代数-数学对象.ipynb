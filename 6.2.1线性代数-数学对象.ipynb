{
 "cells": [
  {
   "cell_type": "code",
   "execution_count": 1,
   "metadata": {},
   "outputs": [],
   "source": [
    "import numpy as np"
   ]
  },
  {
   "cell_type": "markdown",
   "metadata": {},
   "source": [
    "# 数学对象"
   ]
  },
  {
   "cell_type": "code",
   "execution_count": 2,
   "metadata": {},
   "outputs": [],
   "source": [
    "#标量只是一个单一的数字\n",
    "scalar_value=18"
   ]
  },
  {
   "cell_type": "code",
   "execution_count": 3,
   "metadata": {},
   "outputs": [
    {
     "name": "stdout",
     "output_type": "stream",
     "text": [
      "18\n"
     ]
    }
   ],
   "source": [
    "print(scalar_value)"
   ]
  },
  {
   "cell_type": "code",
   "execution_count": 5,
   "metadata": {},
   "outputs": [
    {
     "ename": "AttributeError",
     "evalue": "'int' object has no attribute 'shape'",
     "output_type": "error",
     "traceback": [
      "\u001b[1;31m---------------------------------------------------------------------------\u001b[0m",
      "\u001b[1;31mAttributeError\u001b[0m                            Traceback (most recent call last)",
      "\u001b[1;32m<ipython-input-5-0eab86f663c9>\u001b[0m in \u001b[0;36m<module>\u001b[1;34m\u001b[0m\n\u001b[1;32m----> 1\u001b[1;33m \u001b[0mprint\u001b[0m\u001b[1;33m(\u001b[0m\u001b[0mscalar_value\u001b[0m\u001b[1;33m,\u001b[0m\u001b[0mscalar_value\u001b[0m\u001b[1;33m.\u001b[0m\u001b[0mshape\u001b[0m\u001b[1;33m)\u001b[0m\u001b[1;33m\u001b[0m\u001b[0m\n\u001b[0m",
      "\u001b[1;31mAttributeError\u001b[0m: 'int' object has no attribute 'shape'"
     ]
    }
   ],
   "source": [
    "print(scalar_value,scalar_value.shape)#'int' object has no attribute 'shape'"
   ]
  },
  {
   "cell_type": "code",
   "execution_count": 6,
   "metadata": {},
   "outputs": [
    {
     "name": "stdout",
     "output_type": "stream",
     "text": [
      "18 ()\n"
     ]
    }
   ],
   "source": [
    "#标量只是一个单一的数字\n",
    "scalar_value=18\n",
    "scalar_np=np.array(scalar_value)#转换数组中的np.array\n",
    "print(scalar_np,scalar_np.shape)#shape是numpy中的概念，这里一个int数就是空"
   ]
  },
  {
   "cell_type": "code",
   "execution_count": 7,
   "metadata": {},
   "outputs": [
    {
     "name": "stdout",
     "output_type": "stream",
     "text": [
      "[1 2 3] (3,)\n"
     ]
    }
   ],
   "source": [
    "#向量有序数字数组\n",
    "vector_value=[1,2,3]\n",
    "vector_np=np.array(vector_value)\n",
    "print(vector_np,vector_np.shape)#shape显示为1维向量，但其实既不是行向量也不是列向量"
   ]
  },
  {
   "cell_type": "code",
   "execution_count": 10,
   "metadata": {},
   "outputs": [
    {
     "name": "stdout",
     "output_type": "stream",
     "text": [
      "matrix_list= [[1, 2, 3], [4, 5, 6]] \n",
      " matrix_np=\n",
      " [[1 2 3]\n",
      " [4 5 6]] \n",
      " matrix_np.shape= (2, 3)\n"
     ]
    }
   ],
   "source": [
    "#矩阵是个有序二维数组，一个指向行一个指向列\n",
    "matrix_list=[[1,2,3],[4,5,6]]\n",
    "matrix_np=np.array(matrix_list)\n",
    "print(\"matrix_list=\",matrix_list,\"\\n\",\"matrix_np=\\n\",matrix_np,\"\\n\",\"matrix_np.shape=\",matrix_np.shape)"
   ]
  },
  {
   "cell_type": "code",
   "execution_count": 21,
   "metadata": {},
   "outputs": [
    {
     "name": "stdout",
     "output_type": "stream",
     "text": [
      "[[1 2 3]] shape= (1, 3)\n"
     ]
    }
   ],
   "source": [
    "#行向量的矩阵表示\n",
    "vector_row= np.array([[1,2, 3]])\n",
    "print (vector_row,'shape=',vector_row.shape)"
   ]
  },
  {
   "cell_type": "code",
   "execution_count": 22,
   "metadata": {},
   "outputs": [
    {
     "name": "stdout",
     "output_type": "stream",
     "text": [
      "[[4]\n",
      " [5]\n",
      " [6]] shape= (3, 1)\n"
     ]
    }
   ],
   "source": [
    "#列向量的矩阵表示\n",
    "vector_column= np.array([[4],[5], [6]])\n",
    "print (vector_column,'shape=',vector_column.shape)"
   ]
  },
  {
   "cell_type": "code",
   "execution_count": 27,
   "metadata": {},
   "outputs": [
    {
     "name": "stdout",
     "output_type": "stream",
     "text": [
      "[[1 2 3]\n",
      " [4 5 6]] shape= (2, 3)\n"
     ]
    }
   ],
   "source": [
    "#矩阵与标量运算\n",
    "matrix_a= np.array([[1,2,3], [4, 5,6]])\n",
    "print (matrix_a,'shape=',matrix_a. shape)\n"
   ]
  },
  {
   "cell_type": "code",
   "execution_count": null,
   "metadata": {},
   "outputs": [],
   "source": []
  }
 ],
 "metadata": {
  "kernelspec": {
   "display_name": "Python 3.6.3 64-bit ('TensorFlow': conda)",
   "language": "python",
   "name": "python36364bittensorflowconda6ab1db8ce32440309d56a8d3027fa22b"
  },
  "language_info": {
   "codemirror_mode": {
    "name": "ipython",
    "version": 3
   },
   "file_extension": ".py",
   "mimetype": "text/x-python",
   "name": "python",
   "nbconvert_exporter": "python",
   "pygments_lexer": "ipython3",
   "version": "3.6.3"
  }
 },
 "nbformat": 4,
 "nbformat_minor": 2
}
