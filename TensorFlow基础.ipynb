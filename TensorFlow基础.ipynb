{
 "cells": [
  {
   "cell_type": "markdown",
   "metadata": {},
   "source": [
    "# 4.1.3张量"
   ]
  },
  {
   "cell_type": "code",
   "execution_count": null,
   "metadata": {},
   "outputs": [],
   "source": [
    "import tensorflow as tf\n",
    "tens1=tf.constant([[[1,2,2],[2,2,3]],\n",
    "                  [[3,5,6],[5,4,3]],\n",
    "                 [[7,0,1],[9,1,9]],\n",
    "                 [[11,12,7],[1,3,4]]],name=\"tens1\")\n",
    "#python语句中包含[],{}或（）括号中间换行的就不需要多行换行符\n",
    "print(tens1)\n",
    "#3维数组，每一项有时2维数组"
   ]
  },
  {
   "cell_type": "code",
   "execution_count": null,
   "metadata": {},
   "outputs": [],
   "source": [
    "import tensorflow as tf\n",
    "scalar=tf.constant(100)\n",
    "vector=tf.constant([1,2,3,4,5])\n",
    "matrix=tf.constant([[1,2,3],[4,5,6]])\n",
    "cube_matrix=tf.constant([[[1],[2],[3]],\n",
    "                   [[4],[5],[6]],\n",
    "                   [[7],[8],[9]]])\n",
    "print(scalar.get_shape())\n",
    "print(vector.get_shape())\n",
    "print(matrix.get_shape())\n",
    "print(cube_matrix.get_shape())"
   ]
  },
  {
   "cell_type": "code",
   "execution_count": null,
   "metadata": {},
   "outputs": [],
   "source": [
    "import tensorflow as tf\n",
    "tens1=tf.constant([[[1,3,4],[2,4,2]],[[3,3,4],[4,4,4]],[[5,4,5],[6,1,2]]])\n",
    "print(tens1.get_shape)\n",
    "sess=tf.Session()\n",
    "print(sess.run(tens1)[1,1,0])\n",
    "sess.close()"
   ]
  },
  {
   "cell_type": "markdown",
   "metadata": {},
   "source": [
    "# 4.2.3变量"
   ]
  },
  {
   "cell_type": "code",
   "execution_count": 13,
   "metadata": {},
   "outputs": [
    {
     "name": "stdout",
     "output_type": "stream",
     "text": [
      "1\n",
      "2\n",
      "3\n",
      "4\n",
      "5\n",
      "6\n",
      "7\n",
      "8\n",
      "9\n",
      "10\n"
     ]
    }
   ],
   "source": [
    "import tensorflow  as tf\n",
    "tf.reset_default_graph()\n",
    "value=tf.Variable(0,name=\"value\")\n",
    "one=tf.constant(1)\n",
    "new_value=tf.add(value,one)\n",
    "update_value=tf.assign(value,new_value)\n",
    "init=tf.global_variables_initializer()\n",
    "with tf.Session() as sess:\n",
    "    sess.run(init)\n",
    "    for i in range(10):\n",
    "        sess.run(update_value)\n",
    "        print(sess.run(value))\n",
    "logdir=\"D://log\"\n",
    "writer=tf.summary.FileWriter(logdir,tf.get_default_graph())\n",
    "writer.close()\n"
   ]
  },
  {
   "cell_type": "markdown",
   "metadata": {},
   "source": [
    "# 4.2.4 Feed-placehodler"
   ]
  },
  {
   "cell_type": "code",
   "execution_count": 6,
   "metadata": {},
   "outputs": [
    {
     "name": "stdout",
     "output_type": "stream",
     "text": [
      "280.0\n"
     ]
    }
   ],
   "source": [
    "import tensorflow as tf\n",
    "a=tf.placeholder(tf.float32,name=\"a\")\n",
    "b=tf.placeholder(tf.float32,name=\"b\")\n",
    "c=tf.multiply(a,b,name=\"c\")\n",
    "\n",
    "init=tf.global_variables_initializer()\n",
    "with tf.Session() as sess:\n",
    "    sess.run(init)\n",
    "    result=sess.run(c,feed_dict={a:8,b:35})\n",
    "    print(result)\n",
    "    "
   ]
  },
  {
   "cell_type": "code",
   "execution_count": null,
   "metadata": {},
   "outputs": [],
   "source": []
  }
 ],
 "metadata": {
  "kernelspec": {
   "display_name": "Python 3",
   "language": "python",
   "name": "python3"
  },
  "language_info": {
   "codemirror_mode": {
    "name": "ipython",
    "version": 3
   },
   "file_extension": ".py",
   "mimetype": "text/x-python",
   "name": "python",
   "nbconvert_exporter": "python",
   "pygments_lexer": "ipython3",
   "version": "3.6.3"
  }
 },
 "nbformat": 4,
 "nbformat_minor": 2
}
